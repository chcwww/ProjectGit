{
  "nbformat": 4,
  "nbformat_minor": 0,
  "metadata": {
    "colab": {
      "provenance": [],
      "machine_shape": "hm",
      "authorship_tag": "ABX9TyOyzhbckagsFojfTUXM5QyZ",
      "include_colab_link": true
    },
    "kernelspec": {
      "name": "python3",
      "display_name": "Python 3"
    },
    "language_info": {
      "name": "python"
    },
    "gpuClass": "standard"
  },
  "cells": [
    {
      "cell_type": "markdown",
      "metadata": {
        "id": "view-in-github",
        "colab_type": "text"
      },
      "source": [
        "<a href=\"https://colab.research.google.com/github/chcwww/ProjectGit/blob/main/method/bigDataProcessingAuto/everyPerson.ipynb\" target=\"_parent\"><img src=\"https://colab.research.google.com/assets/colab-badge.svg\" alt=\"Open In Colab\"/></a>"
      ]
    },
    {
      "cell_type": "code",
      "source": [
        "from google.colab import drive\n",
        "drive.mount('/content/drive')"
      ],
      "metadata": {
        "colab": {
          "base_uri": "https://localhost:8080/"
        },
        "id": "xM_UeaL62LEv",
        "outputId": "784cb418-ff84-4350-992c-89dba8c56aed"
      },
      "execution_count": null,
      "outputs": [
        {
          "output_type": "stream",
          "name": "stdout",
          "text": [
            "Mounted at /content/drive\n"
          ]
        }
      ]
    },
    {
      "cell_type": "code",
      "source": [
        "import pandas as pd\n",
        "import numpy as np\n",
        "tranDtype = {'id': 'uint64',\n",
        " 'chain': 'uint16',\n",
        " 'dept': 'uint8',\n",
        " 'category': 'uint16',\n",
        " 'company': 'uint64',\n",
        " 'brand': 'uint32',\n",
        "#  'date' : 'object',\n",
        " 'productsize': 'float32',\n",
        " 'productmeasure': 'category',\n",
        " 'purchasequantity': 'int64',\n",
        " 'purchaseamount': 'float32'}"
      ],
      "metadata": {
        "id": "SVI4q8PvtXlb"
      },
      "execution_count": null,
      "outputs": []
    },
    {
      "cell_type": "code",
      "source": [
        "import dask.dataframe as pd \n",
        "ef = dd.read_csv('/content/drive/MyDrive/1經濟學/專題/transactions.csv', dtype = tranDtype)\n",
        "ef.head()"
      ],
      "metadata": {
        "colab": {
          "base_uri": "https://localhost:8080/",
          "height": 206
        },
        "id": "vUEczV8Wtb_u",
        "outputId": "58cd8fdb-500d-45b9-8bb6-6e9a449b64fb"
      },
      "execution_count": null,
      "outputs": [
        {
          "output_type": "execute_result",
          "data": {
            "text/plain": [
              "      id  chain  dept  category     company  brand        date  productsize  \\\n",
              "0  86246    205     7       707  1078778070  12564  2012-03-02         12.0   \n",
              "1  86246    205    63      6319   107654575  17876  2012-03-02         64.0   \n",
              "2  86246    205    97      9753  1022027929      0  2012-03-02          1.0   \n",
              "3  86246    205    25      2509   107996777  31373  2012-03-02         16.0   \n",
              "4  86246    205    55      5555   107684070  32094  2012-03-02         16.0   \n",
              "\n",
              "  productmeasure  purchasequantity  purchaseamount  \n",
              "0             OZ                 1            7.59  \n",
              "1             OZ                 1            1.59  \n",
              "2             CT                 1            5.99  \n",
              "3             OZ                 1            1.99  \n",
              "4             OZ                 2           10.38  "
            ],
            "text/html": [
              "\n",
              "  <div id=\"df-e26efb68-ca3b-4973-afd0-5c9b519799e8\">\n",
              "    <div class=\"colab-df-container\">\n",
              "      <div>\n",
              "<style scoped>\n",
              "    .dataframe tbody tr th:only-of-type {\n",
              "        vertical-align: middle;\n",
              "    }\n",
              "\n",
              "    .dataframe tbody tr th {\n",
              "        vertical-align: top;\n",
              "    }\n",
              "\n",
              "    .dataframe thead th {\n",
              "        text-align: right;\n",
              "    }\n",
              "</style>\n",
              "<table border=\"1\" class=\"dataframe\">\n",
              "  <thead>\n",
              "    <tr style=\"text-align: right;\">\n",
              "      <th></th>\n",
              "      <th>id</th>\n",
              "      <th>chain</th>\n",
              "      <th>dept</th>\n",
              "      <th>category</th>\n",
              "      <th>company</th>\n",
              "      <th>brand</th>\n",
              "      <th>date</th>\n",
              "      <th>productsize</th>\n",
              "      <th>productmeasure</th>\n",
              "      <th>purchasequantity</th>\n",
              "      <th>purchaseamount</th>\n",
              "    </tr>\n",
              "  </thead>\n",
              "  <tbody>\n",
              "    <tr>\n",
              "      <th>0</th>\n",
              "      <td>86246</td>\n",
              "      <td>205</td>\n",
              "      <td>7</td>\n",
              "      <td>707</td>\n",
              "      <td>1078778070</td>\n",
              "      <td>12564</td>\n",
              "      <td>2012-03-02</td>\n",
              "      <td>12.0</td>\n",
              "      <td>OZ</td>\n",
              "      <td>1</td>\n",
              "      <td>7.59</td>\n",
              "    </tr>\n",
              "    <tr>\n",
              "      <th>1</th>\n",
              "      <td>86246</td>\n",
              "      <td>205</td>\n",
              "      <td>63</td>\n",
              "      <td>6319</td>\n",
              "      <td>107654575</td>\n",
              "      <td>17876</td>\n",
              "      <td>2012-03-02</td>\n",
              "      <td>64.0</td>\n",
              "      <td>OZ</td>\n",
              "      <td>1</td>\n",
              "      <td>1.59</td>\n",
              "    </tr>\n",
              "    <tr>\n",
              "      <th>2</th>\n",
              "      <td>86246</td>\n",
              "      <td>205</td>\n",
              "      <td>97</td>\n",
              "      <td>9753</td>\n",
              "      <td>1022027929</td>\n",
              "      <td>0</td>\n",
              "      <td>2012-03-02</td>\n",
              "      <td>1.0</td>\n",
              "      <td>CT</td>\n",
              "      <td>1</td>\n",
              "      <td>5.99</td>\n",
              "    </tr>\n",
              "    <tr>\n",
              "      <th>3</th>\n",
              "      <td>86246</td>\n",
              "      <td>205</td>\n",
              "      <td>25</td>\n",
              "      <td>2509</td>\n",
              "      <td>107996777</td>\n",
              "      <td>31373</td>\n",
              "      <td>2012-03-02</td>\n",
              "      <td>16.0</td>\n",
              "      <td>OZ</td>\n",
              "      <td>1</td>\n",
              "      <td>1.99</td>\n",
              "    </tr>\n",
              "    <tr>\n",
              "      <th>4</th>\n",
              "      <td>86246</td>\n",
              "      <td>205</td>\n",
              "      <td>55</td>\n",
              "      <td>5555</td>\n",
              "      <td>107684070</td>\n",
              "      <td>32094</td>\n",
              "      <td>2012-03-02</td>\n",
              "      <td>16.0</td>\n",
              "      <td>OZ</td>\n",
              "      <td>2</td>\n",
              "      <td>10.38</td>\n",
              "    </tr>\n",
              "  </tbody>\n",
              "</table>\n",
              "</div>\n",
              "      <button class=\"colab-df-convert\" onclick=\"convertToInteractive('df-e26efb68-ca3b-4973-afd0-5c9b519799e8')\"\n",
              "              title=\"Convert this dataframe to an interactive table.\"\n",
              "              style=\"display:none;\">\n",
              "        \n",
              "  <svg xmlns=\"http://www.w3.org/2000/svg\" height=\"24px\"viewBox=\"0 0 24 24\"\n",
              "       width=\"24px\">\n",
              "    <path d=\"M0 0h24v24H0V0z\" fill=\"none\"/>\n",
              "    <path d=\"M18.56 5.44l.94 2.06.94-2.06 2.06-.94-2.06-.94-.94-2.06-.94 2.06-2.06.94zm-11 1L8.5 8.5l.94-2.06 2.06-.94-2.06-.94L8.5 2.5l-.94 2.06-2.06.94zm10 10l.94 2.06.94-2.06 2.06-.94-2.06-.94-.94-2.06-.94 2.06-2.06.94z\"/><path d=\"M17.41 7.96l-1.37-1.37c-.4-.4-.92-.59-1.43-.59-.52 0-1.04.2-1.43.59L10.3 9.45l-7.72 7.72c-.78.78-.78 2.05 0 2.83L4 21.41c.39.39.9.59 1.41.59.51 0 1.02-.2 1.41-.59l7.78-7.78 2.81-2.81c.8-.78.8-2.07 0-2.86zM5.41 20L4 18.59l7.72-7.72 1.47 1.35L5.41 20z\"/>\n",
              "  </svg>\n",
              "      </button>\n",
              "      \n",
              "  <style>\n",
              "    .colab-df-container {\n",
              "      display:flex;\n",
              "      flex-wrap:wrap;\n",
              "      gap: 12px;\n",
              "    }\n",
              "\n",
              "    .colab-df-convert {\n",
              "      background-color: #E8F0FE;\n",
              "      border: none;\n",
              "      border-radius: 50%;\n",
              "      cursor: pointer;\n",
              "      display: none;\n",
              "      fill: #1967D2;\n",
              "      height: 32px;\n",
              "      padding: 0 0 0 0;\n",
              "      width: 32px;\n",
              "    }\n",
              "\n",
              "    .colab-df-convert:hover {\n",
              "      background-color: #E2EBFA;\n",
              "      box-shadow: 0px 1px 2px rgba(60, 64, 67, 0.3), 0px 1px 3px 1px rgba(60, 64, 67, 0.15);\n",
              "      fill: #174EA6;\n",
              "    }\n",
              "\n",
              "    [theme=dark] .colab-df-convert {\n",
              "      background-color: #3B4455;\n",
              "      fill: #D2E3FC;\n",
              "    }\n",
              "\n",
              "    [theme=dark] .colab-df-convert:hover {\n",
              "      background-color: #434B5C;\n",
              "      box-shadow: 0px 1px 3px 1px rgba(0, 0, 0, 0.15);\n",
              "      filter: drop-shadow(0px 1px 2px rgba(0, 0, 0, 0.3));\n",
              "      fill: #FFFFFF;\n",
              "    }\n",
              "  </style>\n",
              "\n",
              "      <script>\n",
              "        const buttonEl =\n",
              "          document.querySelector('#df-e26efb68-ca3b-4973-afd0-5c9b519799e8 button.colab-df-convert');\n",
              "        buttonEl.style.display =\n",
              "          google.colab.kernel.accessAllowed ? 'block' : 'none';\n",
              "\n",
              "        async function convertToInteractive(key) {\n",
              "          const element = document.querySelector('#df-e26efb68-ca3b-4973-afd0-5c9b519799e8');\n",
              "          const dataTable =\n",
              "            await google.colab.kernel.invokeFunction('convertToInteractive',\n",
              "                                                     [key], {});\n",
              "          if (!dataTable) return;\n",
              "\n",
              "          const docLinkHtml = 'Like what you see? Visit the ' +\n",
              "            '<a target=\"_blank\" href=https://colab.research.google.com/notebooks/data_table.ipynb>data table notebook</a>'\n",
              "            + ' to learn more about interactive tables.';\n",
              "          element.innerHTML = '';\n",
              "          dataTable['output_type'] = 'display_data';\n",
              "          await google.colab.output.renderOutput(dataTable, element);\n",
              "          const docLink = document.createElement('div');\n",
              "          docLink.innerHTML = docLinkHtml;\n",
              "          element.appendChild(docLink);\n",
              "        }\n",
              "      </script>\n",
              "    </div>\n",
              "  </div>\n",
              "  "
            ]
          },
          "metadata": {},
          "execution_count": 5
        }
      ]
    },
    {
      "cell_type": "code",
      "source": [
        "ef.info(memory_usage='deep')"
      ],
      "metadata": {
        "id": "Ves7HtGu0-77"
      },
      "execution_count": null,
      "outputs": []
    },
    {
      "cell_type": "code",
      "source": [
        "import pandas as pd\n",
        "offers = pd.read_csv(r'/content/drive/MyDrive/1經濟學/專題/offers.csv')\n",
        "# transactions = pd.read_csv(r'/content/drive/MyDrive/1經濟學/專題/newdata.csv')\n",
        "trainhistory = pd.read_csv(r'/content/drive/MyDrive/1經濟學/專題/trainHistory.csv')\n",
        "testhistory = pd.read_csv(r'/content/drive/MyDrive/1經濟學/專題/testHistory.csv')"
      ],
      "metadata": {
        "id": "PySP3krk2Mll"
      },
      "execution_count": null,
      "outputs": []
    },
    {
      "cell_type": "code",
      "source": [
        "transactions.shape"
      ],
      "metadata": {
        "colab": {
          "base_uri": "https://localhost:8080/"
        },
        "id": "HMpbKqgA2h-8",
        "outputId": "3b787d57-eacf-4013-8174-3026e183c96a"
      },
      "execution_count": null,
      "outputs": [
        {
          "output_type": "execute_result",
          "data": {
            "text/plain": [
              "(Delayed('int-a256edf8-7c72-4963-83df-9e1dd8d7ea11'), 11)"
            ]
          },
          "metadata": {},
          "execution_count": 17
        }
      ]
    },
    {
      "cell_type": "code",
      "source": [
        "def generateFeature(offers, transactions, trainHistory, testHistory, tidx) :\n",
        "    # import useful package\n",
        "    from datetime import timedelta\n",
        "    import pandas as pd\n",
        "    import numpy as np\n",
        "    import time\n",
        "    import gc\n",
        "    ts = time.time()\n",
        "    tk = 1\n",
        "    \n",
        "    use = pd.concat([trainHistory.drop(columns = ['repeater', 'repeattrips']), testHistory], axis=0, ignore_index=True)\n",
        "    offers.rename(columns={'category' : 'offercategory', 'company' : 'offercompany', 'brand' : 'offerbrand'}, inplace = True)\n",
        "    usf = use.set_index('offer').join(offers.set_index('offer'))[['id', 'offerdate', 'offercategory', 'offercompany', 'offerbrand']]\n",
        "    nu = transactions.set_index('id').join(usf.set_index('id'))\n",
        "\n",
        "    del usf, trainHistory, testHistory, transactions\n",
        "    gc.collect()\n",
        "    \n",
        "    te = time.time()\n",
        "    print('Inner -', str(tidx) + ' of ' + str(tk) + '(put offer information) -> time elapsed: ' + str(round(te-ts, 2)) + ' seconds')\n",
        "    tk+=1\n",
        "    \n",
        "    # generate time index\n",
        "    day = np.linspace(30, 180, 6, endpoint = True).astype(int).astype(str)\n",
        "    mea = ['total', 'company', 'brand', 'category']\n",
        "    date_format = '%Y-%m-%d'\n",
        "    nu['daydiff'] = pd.to_datetime(nu['offerdate'], format = date_format) - pd.to_datetime(nu['date'], format = date_format)\n",
        "    for i in day :\n",
        "        nu['diff_' + i] = nu['daydiff'] <= timedelta(days = int(i))\n",
        "    for i in mea[1:] :\n",
        "        nu['in_' + i] = nu['offer' + i] == nu[i]\n",
        "    \n",
        "    te = time.time()\n",
        "    print('Inner -', str(tidx) + ' of ' + str(tk) + '(generate time index) -> time elapsed: ' + str(round(te-ts, 2)) + ' seconds')\n",
        "    tk+=1\n",
        "    \n",
        "    # put offervalue\n",
        "    of1 = offers[['offer', 'offervalue']]\n",
        "    use = pd.merge(use, of1, on='offer')\n",
        "    \n",
        "    te = time.time()\n",
        "    print('Inner -', str(tidx) + ' of ' + str(tk) + '(put offervalue) -> time elapsed: ' + str(round(te-ts, 2)) + ' seconds')\n",
        "    tk+=1\n",
        "    \n",
        "    # generate total\n",
        "    new1 = nu.groupby(['id']).agg({'purchaseamount': ['sum', 'mean', 'count'], 'daydiff': ['min']})\n",
        "    new2 = nu.groupby(['id', 'productmeasure'])['purchasequantity'].sum().reset_index('productmeasure')\n",
        "    new = pd.concat([new1, new2.loc[(new2['productmeasure'].values == 'CT'), 'purchasequantity'],\n",
        "                    new2.loc[(new2['productmeasure'].values == 'OZ'), 'purchasequantity'],\n",
        "                    new2.loc[(new2['productmeasure'].values == 'LT'), 'purchasequantity']], axis = 1)\n",
        "    new.columns = ['buy_total_amount', 'buy_total_avgamount', 'buy_total_freq',\n",
        "                'buy_total_daydiff', 'buy_total_CT', 'buy_total_OZ', 'buy_total_LT']\n",
        "    use = use.set_index('id').join(new)\n",
        "    \n",
        "    te = time.time()\n",
        "    print('Inner -', str(tidx) + ' of ' + str(tk) + '(generate total) -> time elapsed: ' + str(round(te-ts, 2)) + ' seconds')\n",
        "    tk+=1\n",
        "\n",
        "    \n",
        "    for i in day :\n",
        "        filter = nu['diff_' + i]\n",
        "        new1 = nu[filter].groupby('id').agg({'purchaseamount' : ['sum', 'mean', 'count']})\n",
        "        new2 = nu[filter].groupby(['id', 'productmeasure'])['purchasequantity'].sum().reset_index('productmeasure')\n",
        "        new = pd.concat([new1, new2[(new2['productmeasure'].values == 'CT')]['purchasequantity'],\n",
        "                        new2[(new2['productmeasure'].values == 'OZ')]['purchasequantity'],\n",
        "                        new2[(new2['productmeasure'].values == 'LT')]['purchasequantity']], axis = 1)\n",
        "        new.columns = ['buy_total_amount_' + i, 'buy_total_avgamount_' + i, 'buy_total_freq_' + i,\n",
        "                        'buy_total_CT_' + i, 'buy_total_OZ_' + i, 'buy_total_LT_' + i]\n",
        "        use = use.join(new)\n",
        "\n",
        "    te = time.time()\n",
        "    print('Inner -', str(tidx) + ' of ' + str(tk) + '(generate total day) -> time elapsed: ' + str(round(te-ts, 2)) + ' seconds')\n",
        "    tk+=1\n",
        "    \n",
        "    # generate company & brand & category\n",
        "    mea = ['company', 'brand', 'category']\n",
        "    for m in mea :\n",
        "        filter = nu['in_' + m]\n",
        "        new1 = nu[filter].groupby(['id']).agg({'purchaseamount': ['sum', 'mean', 'count'], 'daydiff': ['min']})\n",
        "        new2 = nu[filter].groupby(['id', 'productmeasure'])['purchasequantity'].sum().reset_index('productmeasure')\n",
        "        new = pd.concat([new1, new2.loc[(new2['productmeasure'].values == 'CT'), 'purchasequantity'],\n",
        "                        new2.loc[(new2['productmeasure'].values == 'OZ'), 'purchasequantity'],\n",
        "                        new2.loc[(new2['productmeasure'].values == 'LT'), 'purchasequantity']], axis = 1)\n",
        "        new.columns = ['buy_'+m+'_amount', 'buy_'+m+'_avgamount', 'buy_'+m+'_freq',\n",
        "                        'buy_'+m+'_daydiff', 'buy_'+m+'_CT', 'buy_'+m+'_OZ', 'buy_'+m+'_LT']\n",
        "        use = use.join(new)\n",
        "\n",
        "    te = time.time()\n",
        "    print('Inner -', str(tidx) + ' of ' + str(tk) + '(generate other) -> time elapsed: ' + str(round(te-ts, 2)) + ' seconds')\n",
        "    tk+=1\n",
        "    \n",
        "    \n",
        "    for i in day :\n",
        "        for m in mea :\n",
        "            filter = nu['diff_'+i] & nu['in_' + m]\n",
        "            new1 = nu[nu['diff_'+i]].groupby('id').agg({'purchaseamount' : ['sum', 'mean', 'count']})\n",
        "            new2 = nu[nu['diff_'+i]].groupby(['id', 'productmeasure'])['purchasequantity'].sum().reset_index('productmeasure')\n",
        "            new = pd.concat([new1, new2[(new2['productmeasure'].values == 'CT')]['purchasequantity'],\n",
        "                            new2[(new2['productmeasure'].values == 'OZ')]['purchasequantity'],\n",
        "                            new2[(new2['productmeasure'].values == 'LT')]['purchasequantity']], axis = 1)\n",
        "            new.columns = ['buy_'+m+'_amount_' + i, 'buy_'+m+'_avgamount_' + i, 'buy_'+m+'_freq_' + i,\n",
        "                        'buy_'+m+'_CT_' + i, 'buy_'+m+'_OZ_' + i, 'buy_'+m+'_LT_' + i]\n",
        "            use = use.join(new)\n",
        "    \n",
        "    te = time.time()\n",
        "    print('Inner -', str(tidx) + ' of ' + str(tk) + '(generate other day) -> time elapsed: ' + str(round(te-ts, 2)) + ' seconds')\n",
        "    tk+=1\n",
        "    \n",
        "    \n",
        "    # generate not buy index\n",
        "    for m in mea :\n",
        "        f = (use['buy_'+m+'_freq']>0) \n",
        "        use['not_buy_'+m] = True!=f\n",
        "    \n",
        "    it = np.repeat(range(3), 2)\n",
        "    for m1, m2 in zip(it[:3], it[3:]) :\n",
        "        n = use['not_buy_'+mea[m1]]\n",
        "        t = use['not_buy_'+mea[m2]]\n",
        "        use['not_buy_'+mea[m1]+'_'+mea[m2]] = (n & t)\n",
        "\n",
        "    del new1, new2, new\n",
        "    gc.collect()\n",
        "\n",
        "    te = time.time()\n",
        "    print('Inner -', str(tidx) + ' of ' + str(tk) + '(generate not buy) -> time elapsed: ' + str(round(te-ts, 2)) + ' seconds')\n",
        "    tk+=1\n",
        "\n",
        "    # handle na problem\n",
        "    dayVar = ['buy_company_daydiff', 'buy_brand_daydiff', 'buy_category_daydiff', 'buy_total_daydiff']\n",
        "    use[dayVar] = use[dayVar].fillna(timedelta(0)).astype('timedelta64[D]').astype(int)\n",
        "    use = use.fillna(0)\n",
        "    \n",
        "    te = time.time()\n",
        "    print('Inner -', str(tidx) + ' of ' + str(tk) + '(handle na problem) -> time elapsed: ' + str(round(te-ts, 2)) + ' seconds')\n",
        "    tk+=1\n",
        "    \n",
        "    # transform bool type into int\n",
        "    use[use.columns[use.dtypes == 'bool']] = use[use.columns[use.dtypes == 'bool']].astype(int)\n",
        "\n",
        "    te = time.time()\n",
        "    print('Inner -', str(tidx) + ' (generate feature) -> time elapsed: ' + str(round(te-ts, 2)) + ' seconds')\n",
        "    \n",
        "    return use"
      ],
      "metadata": {
        "id": "knd7zAofuWVR"
      },
      "execution_count": null,
      "outputs": []
    },
    {
      "cell_type": "code",
      "source": [
        "filee = '/content/drive/MyDrive/1經濟學/專題/transactions.csv'\n",
        "file1 = '/content/drive/MyDrive/1經濟學/專題/newSplit/'"
      ],
      "metadata": {
        "id": "OTLXHFXX4s3o"
      },
      "execution_count": null,
      "outputs": []
    },
    {
      "cell_type": "code",
      "source": [
        "se = ['id', 'chain', 'dept', 'category', 'company', 'brand', 'date',\n",
        "       'productsize', 'productmeasure', 'purchasequantity', 'purchaseamount']"
      ],
      "metadata": {
        "id": "YQnT9kL1WfzL"
      },
      "execution_count": null,
      "outputs": []
    },
    {
      "cell_type": "code",
      "execution_count": null,
      "metadata": {
        "id": "_na2QJHS1rQw"
      },
      "outputs": [],
      "source": [
        "%%time\n",
        "from datetime import datetime, date\n",
        "import gc\n",
        "big_size = 50000000\n",
        "k = 0\n",
        "start = datetime.now()\n",
        "with pd.read_csv(filee, chunksize = big_size, dtype = tranDtype, \n",
        "                 header = None, skiprows = 1,\n",
        "                #  parse_dates = ['date'], infer_datetime_format = True,\n",
        "                 engine = 'c') as reader:\n",
        "  for df in reader:\n",
        "    k += 1\n",
        "    df.columns = se\n",
        "    use = generateFeature(offers, df, trainhistory, testhistory, k)\n",
        "    use.to_csv(file1+'output'+str(k)+'.csv', index=False)\n",
        "    del use\n",
        "    gc.collect()\n",
        "    print('Export : ', k, len(df), datetime.now() - start)"
      ]
    },
    {
      "cell_type": "code",
      "source": [
        "df.columns"
      ],
      "metadata": {
        "colab": {
          "base_uri": "https://localhost:8080/"
        },
        "id": "0P86FfxVSGrs",
        "outputId": "8802198d-bf7f-4272-b26e-83682ce7d8f6"
      },
      "execution_count": null,
      "outputs": [
        {
          "output_type": "execute_result",
          "data": {
            "text/plain": [
              "Index(['id', 'chain', 'dept', 'category', 'company', 'brand', 'date',\n",
              "       'productsize', 'productmeasure', 'purchasequantity', 'purchaseamount'],\n",
              "      dtype='object')"
            ]
          },
          "metadata": {},
          "execution_count": 12
        }
      ]
    },
    {
      "cell_type": "code",
      "source": [
        "%%time\n",
        "group = transactions.groupby('id')"
      ],
      "metadata": {
        "id": "b79xJ9Hq8-By"
      },
      "execution_count": null,
      "outputs": []
    },
    {
      "cell_type": "code",
      "source": [
        "%%time\n",
        "a = group.first().compute()"
      ],
      "metadata": {
        "colab": {
          "base_uri": "https://localhost:8080/"
        },
        "id": "x0l0Bw8DJpsM",
        "outputId": "51693e76-eec1-42fa-ff5b-98e16bbe8a71"
      },
      "execution_count": null,
      "outputs": [
        {
          "output_type": "stream",
          "name": "stdout",
          "text": [
            "CPU times: user 24.5 s, sys: 3.12 s, total: 27.6 s\n",
            "Wall time: 12.5 s\n"
          ]
        }
      ]
    },
    {
      "cell_type": "code",
      "source": [
        "a.reset_index()['id']"
      ],
      "metadata": {
        "colab": {
          "base_uri": "https://localhost:8080/"
        },
        "id": "MN36b1j94S87",
        "outputId": "65875883-2b58-4978-d12e-e1355d47a4cc"
      },
      "execution_count": null,
      "outputs": [
        {
          "output_type": "execute_result",
          "data": {
            "text/plain": [
              "0              86246\n",
              "1              86252\n",
              "2           12262064\n",
              "3           12277270\n",
              "4           12332190\n",
              "             ...    \n",
              "310660    4837642552\n",
              "310661    4843417324\n",
              "310662    4847628950\n",
              "310663    4847787712\n",
              "310664    4853598737\n",
              "Name: id, Length: 310665, dtype: int64"
            ]
          },
          "metadata": {},
          "execution_count": 45
        }
      ]
    },
    {
      "cell_type": "code",
      "source": [
        "%%time\n",
        "for i in group :\n",
        "  print(i)"
      ],
      "metadata": {
        "id": "B3eJv4K0KsFS"
      },
      "execution_count": null,
      "outputs": []
    },
    {
      "cell_type": "code",
      "source": [
        "group.get_group()"
      ],
      "metadata": {
        "id": "LTOYhX1KG4De"
      },
      "execution_count": null,
      "outputs": []
    },
    {
      "cell_type": "code",
      "source": [
        "%%time\n",
        "a = []\n",
        "for i in range(200) :\n",
        "  a.append(group[i][1].values.astype(str))"
      ],
      "metadata": {
        "colab": {
          "base_uri": "https://localhost:8080/",
          "height": 417
        },
        "id": "H8NgVjEHGPIU",
        "outputId": "06f675c3-1d4c-4b34-d1de-24464371bed7"
      },
      "execution_count": null,
      "outputs": [
        {
          "output_type": "error",
          "ename": "KeyError",
          "evalue": "ignored",
          "traceback": [
            "\u001b[0;31m---------------------------------------------------------------------------\u001b[0m",
            "\u001b[0;31mKeyError\u001b[0m                                  Traceback (most recent call last)",
            "\u001b[0;32m<timed exec>\u001b[0m in \u001b[0;36m<module>\u001b[0;34m\u001b[0m\n",
            "\u001b[0;32m/usr/local/lib/python3.9/dist-packages/dask/dataframe/groupby.py\u001b[0m in \u001b[0;36m__getitem__\u001b[0;34m(self, key)\u001b[0m\n\u001b[1;32m   2596\u001b[0m \u001b[0;34m\u001b[0m\u001b[0m\n\u001b[1;32m   2597\u001b[0m         \u001b[0;31m# error is raised from pandas\u001b[0m\u001b[0;34m\u001b[0m\u001b[0;34m\u001b[0m\u001b[0m\n\u001b[0;32m-> 2598\u001b[0;31m         \u001b[0mg\u001b[0m\u001b[0;34m.\u001b[0m\u001b[0m_meta\u001b[0m \u001b[0;34m=\u001b[0m \u001b[0mg\u001b[0m\u001b[0;34m.\u001b[0m\u001b[0m_meta\u001b[0m\u001b[0;34m[\u001b[0m\u001b[0mkey\u001b[0m\u001b[0;34m]\u001b[0m\u001b[0;34m\u001b[0m\u001b[0;34m\u001b[0m\u001b[0m\n\u001b[0m\u001b[1;32m   2599\u001b[0m         \u001b[0;32mreturn\u001b[0m \u001b[0mg\u001b[0m\u001b[0;34m\u001b[0m\u001b[0;34m\u001b[0m\u001b[0m\n\u001b[1;32m   2600\u001b[0m \u001b[0;34m\u001b[0m\u001b[0m\n",
            "\u001b[0;32m/usr/local/lib/python3.9/dist-packages/pandas/core/groupby/generic.py\u001b[0m in \u001b[0;36m__getitem__\u001b[0;34m(self, key)\u001b[0m\n\u001b[1;32m   1336\u001b[0m                 \u001b[0mstacklevel\u001b[0m\u001b[0;34m=\u001b[0m\u001b[0mfind_stack_level\u001b[0m\u001b[0;34m(\u001b[0m\u001b[0;34m)\u001b[0m\u001b[0;34m,\u001b[0m\u001b[0;34m\u001b[0m\u001b[0;34m\u001b[0m\u001b[0m\n\u001b[1;32m   1337\u001b[0m             )\n\u001b[0;32m-> 1338\u001b[0;31m         \u001b[0;32mreturn\u001b[0m \u001b[0msuper\u001b[0m\u001b[0;34m(\u001b[0m\u001b[0;34m)\u001b[0m\u001b[0;34m.\u001b[0m\u001b[0m__getitem__\u001b[0m\u001b[0;34m(\u001b[0m\u001b[0mkey\u001b[0m\u001b[0;34m)\u001b[0m\u001b[0;34m\u001b[0m\u001b[0;34m\u001b[0m\u001b[0m\n\u001b[0m\u001b[1;32m   1339\u001b[0m \u001b[0;34m\u001b[0m\u001b[0m\n\u001b[1;32m   1340\u001b[0m     \u001b[0;32mdef\u001b[0m \u001b[0m_gotitem\u001b[0m\u001b[0;34m(\u001b[0m\u001b[0mself\u001b[0m\u001b[0;34m,\u001b[0m \u001b[0mkey\u001b[0m\u001b[0;34m,\u001b[0m \u001b[0mndim\u001b[0m\u001b[0;34m:\u001b[0m \u001b[0mint\u001b[0m\u001b[0;34m,\u001b[0m \u001b[0msubset\u001b[0m\u001b[0;34m=\u001b[0m\u001b[0;32mNone\u001b[0m\u001b[0;34m)\u001b[0m\u001b[0;34m:\u001b[0m\u001b[0;34m\u001b[0m\u001b[0;34m\u001b[0m\u001b[0m\n",
            "\u001b[0;32m/usr/local/lib/python3.9/dist-packages/pandas/core/base.py\u001b[0m in \u001b[0;36m__getitem__\u001b[0;34m(self, key)\u001b[0m\n\u001b[1;32m    248\u001b[0m         \u001b[0;32melse\u001b[0m\u001b[0;34m:\u001b[0m\u001b[0;34m\u001b[0m\u001b[0;34m\u001b[0m\u001b[0m\n\u001b[1;32m    249\u001b[0m             \u001b[0;32mif\u001b[0m \u001b[0mkey\u001b[0m \u001b[0;32mnot\u001b[0m \u001b[0;32min\u001b[0m \u001b[0mself\u001b[0m\u001b[0;34m.\u001b[0m\u001b[0mobj\u001b[0m\u001b[0;34m:\u001b[0m\u001b[0;34m\u001b[0m\u001b[0;34m\u001b[0m\u001b[0m\n\u001b[0;32m--> 250\u001b[0;31m                 \u001b[0;32mraise\u001b[0m \u001b[0mKeyError\u001b[0m\u001b[0;34m(\u001b[0m\u001b[0;34mf\"Column not found: {key}\"\u001b[0m\u001b[0;34m)\u001b[0m\u001b[0;34m\u001b[0m\u001b[0;34m\u001b[0m\u001b[0m\n\u001b[0m\u001b[1;32m    251\u001b[0m             \u001b[0msubset\u001b[0m \u001b[0;34m=\u001b[0m \u001b[0mself\u001b[0m\u001b[0;34m.\u001b[0m\u001b[0mobj\u001b[0m\u001b[0;34m[\u001b[0m\u001b[0mkey\u001b[0m\u001b[0;34m]\u001b[0m\u001b[0;34m\u001b[0m\u001b[0;34m\u001b[0m\u001b[0m\n\u001b[1;32m    252\u001b[0m             \u001b[0mndim\u001b[0m \u001b[0;34m=\u001b[0m \u001b[0msubset\u001b[0m\u001b[0;34m.\u001b[0m\u001b[0mndim\u001b[0m\u001b[0;34m\u001b[0m\u001b[0;34m\u001b[0m\u001b[0m\n",
            "\u001b[0;31mKeyError\u001b[0m: 'Column not found: 0'"
          ]
        }
      ]
    },
    {
      "cell_type": "code",
      "source": [
        "i[1]"
      ],
      "metadata": {
        "id": "ODoPX5a_MfFw"
      },
      "execution_count": null,
      "outputs": []
    },
    {
      "cell_type": "code",
      "source": [
        "%%time\n",
        "# group = df.iloc[:100000,:].groupby('id')"
      ],
      "metadata": {
        "id": "Ql3KemuvM335"
      },
      "execution_count": null,
      "outputs": []
    },
    {
      "cell_type": "code",
      "source": [
        "group.first()"
      ],
      "metadata": {
        "id": "FbxT6ccHNISx"
      },
      "execution_count": null,
      "outputs": []
    },
    {
      "cell_type": "code",
      "source": [
        "group = df.iloc[:100000, :].groupby('id')"
      ],
      "metadata": {
        "id": "Rat6VBMpSsXw"
      },
      "execution_count": null,
      "outputs": []
    },
    {
      "cell_type": "code",
      "source": [
        "for i in group :\n",
        "  print(1.get)"
      ],
      "metadata": {
        "colab": {
          "base_uri": "https://localhost:8080/",
          "height": 341
        },
        "id": "kS_ly_RQ3TAU",
        "outputId": "1a97ef36-fc4e-4c36-f871-a02a8572d022"
      },
      "execution_count": null,
      "outputs": [
        {
          "output_type": "error",
          "ename": "NotImplementedError",
          "evalue": "ignored",
          "traceback": [
            "\u001b[0;31m---------------------------------------------------------------------------\u001b[0m",
            "\u001b[0;31mNotImplementedError\u001b[0m                       Traceback (most recent call last)",
            "\u001b[0;32m<ipython-input-28-73c7c1bbd807>\u001b[0m in \u001b[0;36m<cell line: 1>\u001b[0;34m()\u001b[0m\n\u001b[0;32m----> 1\u001b[0;31m \u001b[0;32mfor\u001b[0m \u001b[0mi\u001b[0m \u001b[0;32min\u001b[0m \u001b[0mgroup\u001b[0m \u001b[0;34m:\u001b[0m\u001b[0;34m\u001b[0m\u001b[0;34m\u001b[0m\u001b[0m\n\u001b[0m\u001b[1;32m      2\u001b[0m   \u001b[0mprint\u001b[0m\u001b[0;34m(\u001b[0m\u001b[0;36m1\u001b[0m\u001b[0;34m)\u001b[0m\u001b[0;34m\u001b[0m\u001b[0;34m\u001b[0m\u001b[0m\n",
            "\u001b[0;32m/usr/local/lib/python3.9/dist-packages/dask/dataframe/groupby.py\u001b[0m in \u001b[0;36m__iter__\u001b[0;34m(self)\u001b[0m\n\u001b[1;32m   1376\u001b[0m \u001b[0;34m\u001b[0m\u001b[0m\n\u001b[1;32m   1377\u001b[0m     \u001b[0;32mdef\u001b[0m \u001b[0m__iter__\u001b[0m\u001b[0;34m(\u001b[0m\u001b[0mself\u001b[0m\u001b[0;34m)\u001b[0m\u001b[0;34m:\u001b[0m\u001b[0;34m\u001b[0m\u001b[0;34m\u001b[0m\u001b[0m\n\u001b[0;32m-> 1378\u001b[0;31m         raise NotImplementedError(\n\u001b[0m\u001b[1;32m   1379\u001b[0m             \u001b[0;34m\"Iteration of DataFrameGroupBy objects requires computing the groups which \"\u001b[0m\u001b[0;34m\u001b[0m\u001b[0;34m\u001b[0m\u001b[0m\n\u001b[1;32m   1380\u001b[0m             \u001b[0;34m\"may be slow. You probably want to use 'apply' to execute a function for \"\u001b[0m\u001b[0;34m\u001b[0m\u001b[0;34m\u001b[0m\u001b[0m\n",
            "\u001b[0;31mNotImplementedError\u001b[0m: Iteration of DataFrameGroupBy objects requires computing the groups which may be slow. You probably want to use 'apply' to execute a function for all the columns. To access individual groups, use 'get_group'. To list all the group names, use 'df[<group column>].unique().compute()'."
          ]
        }
      ]
    },
    {
      "cell_type": "code",
      "source": [],
      "metadata": {
        "id": "RIBJBRTe3eVu"
      },
      "execution_count": null,
      "outputs": []
    },
    {
      "cell_type": "code",
      "source": [
        "%%time\n",
        "k=0\n",
        "for i in group :\n",
        "  k+=1\n",
        "  with open('output'+str(i[0])+'.csv', 'w') as out_f:\n",
        "      for row in i[1].values.astype(str) :\n",
        "          out_f.write(\",\".join(row) + '\\n')"
      ],
      "metadata": {
        "colab": {
          "base_uri": "https://localhost:8080/",
          "height": 150
        },
        "id": "oN_CgwMA9fXQ",
        "outputId": "ee747eca-1c47-438e-ae1c-c2c7d3b33b0d"
      },
      "execution_count": null,
      "outputs": [
        {
          "output_type": "error",
          "ename": "TypeError",
          "evalue": "ignored",
          "traceback": [
            "\u001b[0;31m---------------------------------------------------------------------------\u001b[0m",
            "\u001b[0;31mTypeError\u001b[0m                                 Traceback (most recent call last)",
            "\u001b[0;32m<timed exec>\u001b[0m in \u001b[0;36m<module>\u001b[0;34m\u001b[0m\n",
            "\u001b[0;31mTypeError\u001b[0m: sequence item 0: expected str instance, int found"
          ]
        }
      ]
    },
    {
      "cell_type": "code",
      "source": [],
      "metadata": {
        "colab": {
          "base_uri": "https://localhost:8080/"
        },
        "id": "O7Y-ZDYfTQ5q",
        "outputId": "5fd2f4ee-3518-4060-fb39-2e067073934b"
      },
      "execution_count": null,
      "outputs": [
        {
          "output_type": "execute_result",
          "data": {
            "text/plain": [
              "90"
            ]
          },
          "metadata": {},
          "execution_count": 263
        }
      ]
    },
    {
      "cell_type": "code",
      "source": [
        "import csv"
      ],
      "metadata": {
        "id": "mQB242v3RSYX"
      },
      "execution_count": null,
      "outputs": []
    },
    {
      "cell_type": "code",
      "source": [
        "%%time\n",
        "k=0\n",
        "for i in group :\n",
        "  k+=1\n",
        "  with open('output'+str(i[0])+'.csv', 'w', 'w') as csvfile:\n",
        "      writer = csv.writer(csvfile)\n",
        "      for row in i[1]:\n",
        "          writer.writerow(row.encode())"
      ],
      "metadata": {
        "id": "dAu1OpJdQ11B"
      },
      "execution_count": null,
      "outputs": []
    },
    {
      "cell_type": "code",
      "source": [
        "group = df.iloc[:100000, :].groupby('id')"
      ],
      "metadata": {
        "id": "RUeUJ0awueAW"
      },
      "execution_count": null,
      "outputs": []
    },
    {
      "cell_type": "code",
      "source": [
        "for i in a.reset_index()['id'] :\n",
        "  print(1)"
      ],
      "metadata": {
        "id": "PVkcvHTt4sWM"
      },
      "execution_count": null,
      "outputs": []
    },
    {
      "cell_type": "code",
      "source": [
        "%%time\n",
        "for o in group.first().compute().reset_index()['id'] :\n",
        "  i = group.get_group(o)\n",
        "  i[1].to_csv('output'+str(i[0])+'.csv')"
      ],
      "metadata": {
        "colab": {
          "base_uri": "https://localhost:8080/",
          "height": 417
        },
        "id": "TYnBPRdpFBlg",
        "outputId": "dea68fbe-b573-441e-f535-8c43549c5151"
      },
      "execution_count": null,
      "outputs": [
        {
          "output_type": "error",
          "ename": "KeyboardInterrupt",
          "evalue": "ignored",
          "traceback": [
            "\u001b[0;31m---------------------------------------------------------------------------\u001b[0m",
            "\u001b[0;31mKeyboardInterrupt\u001b[0m                         Traceback (most recent call last)",
            "\u001b[0;32m<timed exec>\u001b[0m in \u001b[0;36m<module>\u001b[0;34m\u001b[0m\n",
            "\u001b[0;32m/usr/local/lib/python3.9/dist-packages/dask/base.py\u001b[0m in \u001b[0;36mcompute\u001b[0;34m(self, **kwargs)\u001b[0m\n\u001b[1;32m    313\u001b[0m         \u001b[0mdask\u001b[0m\u001b[0;34m.\u001b[0m\u001b[0mbase\u001b[0m\u001b[0;34m.\u001b[0m\u001b[0mcompute\u001b[0m\u001b[0;34m\u001b[0m\u001b[0;34m\u001b[0m\u001b[0m\n\u001b[1;32m    314\u001b[0m         \"\"\"\n\u001b[0;32m--> 315\u001b[0;31m         \u001b[0;34m(\u001b[0m\u001b[0mresult\u001b[0m\u001b[0;34m,\u001b[0m\u001b[0;34m)\u001b[0m \u001b[0;34m=\u001b[0m \u001b[0mcompute\u001b[0m\u001b[0;34m(\u001b[0m\u001b[0mself\u001b[0m\u001b[0;34m,\u001b[0m \u001b[0mtraverse\u001b[0m\u001b[0;34m=\u001b[0m\u001b[0;32mFalse\u001b[0m\u001b[0;34m,\u001b[0m \u001b[0;34m**\u001b[0m\u001b[0mkwargs\u001b[0m\u001b[0;34m)\u001b[0m\u001b[0;34m\u001b[0m\u001b[0;34m\u001b[0m\u001b[0m\n\u001b[0m\u001b[1;32m    316\u001b[0m         \u001b[0;32mreturn\u001b[0m \u001b[0mresult\u001b[0m\u001b[0;34m\u001b[0m\u001b[0;34m\u001b[0m\u001b[0m\n\u001b[1;32m    317\u001b[0m \u001b[0;34m\u001b[0m\u001b[0m\n",
            "\u001b[0;32m/usr/local/lib/python3.9/dist-packages/dask/base.py\u001b[0m in \u001b[0;36mcompute\u001b[0;34m(traverse, optimize_graph, scheduler, get, *args, **kwargs)\u001b[0m\n\u001b[1;32m    598\u001b[0m         \u001b[0mpostcomputes\u001b[0m\u001b[0;34m.\u001b[0m\u001b[0mappend\u001b[0m\u001b[0;34m(\u001b[0m\u001b[0mx\u001b[0m\u001b[0;34m.\u001b[0m\u001b[0m__dask_postcompute__\u001b[0m\u001b[0;34m(\u001b[0m\u001b[0;34m)\u001b[0m\u001b[0;34m)\u001b[0m\u001b[0;34m\u001b[0m\u001b[0;34m\u001b[0m\u001b[0m\n\u001b[1;32m    599\u001b[0m \u001b[0;34m\u001b[0m\u001b[0m\n\u001b[0;32m--> 600\u001b[0;31m     \u001b[0mresults\u001b[0m \u001b[0;34m=\u001b[0m \u001b[0mschedule\u001b[0m\u001b[0;34m(\u001b[0m\u001b[0mdsk\u001b[0m\u001b[0;34m,\u001b[0m \u001b[0mkeys\u001b[0m\u001b[0;34m,\u001b[0m \u001b[0;34m**\u001b[0m\u001b[0mkwargs\u001b[0m\u001b[0;34m)\u001b[0m\u001b[0;34m\u001b[0m\u001b[0;34m\u001b[0m\u001b[0m\n\u001b[0m\u001b[1;32m    601\u001b[0m     \u001b[0;32mreturn\u001b[0m \u001b[0mrepack\u001b[0m\u001b[0;34m(\u001b[0m\u001b[0;34m[\u001b[0m\u001b[0mf\u001b[0m\u001b[0;34m(\u001b[0m\u001b[0mr\u001b[0m\u001b[0;34m,\u001b[0m \u001b[0;34m*\u001b[0m\u001b[0ma\u001b[0m\u001b[0;34m)\u001b[0m \u001b[0;32mfor\u001b[0m \u001b[0mr\u001b[0m\u001b[0;34m,\u001b[0m \u001b[0;34m(\u001b[0m\u001b[0mf\u001b[0m\u001b[0;34m,\u001b[0m \u001b[0ma\u001b[0m\u001b[0;34m)\u001b[0m \u001b[0;32min\u001b[0m \u001b[0mzip\u001b[0m\u001b[0;34m(\u001b[0m\u001b[0mresults\u001b[0m\u001b[0;34m,\u001b[0m \u001b[0mpostcomputes\u001b[0m\u001b[0;34m)\u001b[0m\u001b[0;34m]\u001b[0m\u001b[0;34m)\u001b[0m\u001b[0;34m\u001b[0m\u001b[0;34m\u001b[0m\u001b[0m\n\u001b[1;32m    602\u001b[0m \u001b[0;34m\u001b[0m\u001b[0m\n",
            "\u001b[0;32m/usr/local/lib/python3.9/dist-packages/dask/threaded.py\u001b[0m in \u001b[0;36mget\u001b[0;34m(dsk, keys, cache, num_workers, pool, **kwargs)\u001b[0m\n\u001b[1;32m     87\u001b[0m             \u001b[0mpool\u001b[0m \u001b[0;34m=\u001b[0m \u001b[0mMultiprocessingPoolExecutor\u001b[0m\u001b[0;34m(\u001b[0m\u001b[0mpool\u001b[0m\u001b[0;34m)\u001b[0m\u001b[0;34m\u001b[0m\u001b[0;34m\u001b[0m\u001b[0m\n\u001b[1;32m     88\u001b[0m \u001b[0;34m\u001b[0m\u001b[0m\n\u001b[0;32m---> 89\u001b[0;31m     results = get_async(\n\u001b[0m\u001b[1;32m     90\u001b[0m         \u001b[0mpool\u001b[0m\u001b[0;34m.\u001b[0m\u001b[0msubmit\u001b[0m\u001b[0;34m,\u001b[0m\u001b[0;34m\u001b[0m\u001b[0;34m\u001b[0m\u001b[0m\n\u001b[1;32m     91\u001b[0m         \u001b[0mpool\u001b[0m\u001b[0;34m.\u001b[0m\u001b[0m_max_workers\u001b[0m\u001b[0;34m,\u001b[0m\u001b[0;34m\u001b[0m\u001b[0;34m\u001b[0m\u001b[0m\n",
            "\u001b[0;32m/usr/local/lib/python3.9/dist-packages/dask/local.py\u001b[0m in \u001b[0;36mget_async\u001b[0;34m(submit, num_workers, dsk, result, cache, get_id, rerun_exceptions_locally, pack_exception, raise_exception, callbacks, dumps, loads, chunksize, **kwargs)\u001b[0m\n\u001b[1;32m    498\u001b[0m             \u001b[0;32mwhile\u001b[0m \u001b[0mstate\u001b[0m\u001b[0;34m[\u001b[0m\u001b[0;34m\"waiting\"\u001b[0m\u001b[0;34m]\u001b[0m \u001b[0;32mor\u001b[0m \u001b[0mstate\u001b[0m\u001b[0;34m[\u001b[0m\u001b[0;34m\"ready\"\u001b[0m\u001b[0;34m]\u001b[0m \u001b[0;32mor\u001b[0m \u001b[0mstate\u001b[0m\u001b[0;34m[\u001b[0m\u001b[0;34m\"running\"\u001b[0m\u001b[0;34m]\u001b[0m\u001b[0;34m:\u001b[0m\u001b[0;34m\u001b[0m\u001b[0;34m\u001b[0m\u001b[0m\n\u001b[1;32m    499\u001b[0m                 \u001b[0mfire_tasks\u001b[0m\u001b[0;34m(\u001b[0m\u001b[0mchunksize\u001b[0m\u001b[0;34m)\u001b[0m\u001b[0;34m\u001b[0m\u001b[0;34m\u001b[0m\u001b[0m\n\u001b[0;32m--> 500\u001b[0;31m                 \u001b[0;32mfor\u001b[0m \u001b[0mkey\u001b[0m\u001b[0;34m,\u001b[0m \u001b[0mres_info\u001b[0m\u001b[0;34m,\u001b[0m \u001b[0mfailed\u001b[0m \u001b[0;32min\u001b[0m \u001b[0mqueue_get\u001b[0m\u001b[0;34m(\u001b[0m\u001b[0mqueue\u001b[0m\u001b[0;34m)\u001b[0m\u001b[0;34m.\u001b[0m\u001b[0mresult\u001b[0m\u001b[0;34m(\u001b[0m\u001b[0;34m)\u001b[0m\u001b[0;34m:\u001b[0m\u001b[0;34m\u001b[0m\u001b[0;34m\u001b[0m\u001b[0m\n\u001b[0m\u001b[1;32m    501\u001b[0m                     \u001b[0;32mif\u001b[0m \u001b[0mfailed\u001b[0m\u001b[0;34m:\u001b[0m\u001b[0;34m\u001b[0m\u001b[0;34m\u001b[0m\u001b[0m\n\u001b[1;32m    502\u001b[0m                         \u001b[0mexc\u001b[0m\u001b[0;34m,\u001b[0m \u001b[0mtb\u001b[0m \u001b[0;34m=\u001b[0m \u001b[0mloads\u001b[0m\u001b[0;34m(\u001b[0m\u001b[0mres_info\u001b[0m\u001b[0;34m)\u001b[0m\u001b[0;34m\u001b[0m\u001b[0;34m\u001b[0m\u001b[0m\n",
            "\u001b[0;32m/usr/local/lib/python3.9/dist-packages/dask/local.py\u001b[0m in \u001b[0;36mqueue_get\u001b[0;34m(q)\u001b[0m\n\u001b[1;32m    135\u001b[0m \u001b[0;34m\u001b[0m\u001b[0m\n\u001b[1;32m    136\u001b[0m     \u001b[0;32mdef\u001b[0m \u001b[0mqueue_get\u001b[0m\u001b[0;34m(\u001b[0m\u001b[0mq\u001b[0m\u001b[0;34m)\u001b[0m\u001b[0;34m:\u001b[0m\u001b[0;34m\u001b[0m\u001b[0;34m\u001b[0m\u001b[0m\n\u001b[0;32m--> 137\u001b[0;31m         \u001b[0;32mreturn\u001b[0m \u001b[0mq\u001b[0m\u001b[0;34m.\u001b[0m\u001b[0mget\u001b[0m\u001b[0;34m(\u001b[0m\u001b[0;34m)\u001b[0m\u001b[0;34m\u001b[0m\u001b[0;34m\u001b[0m\u001b[0m\n\u001b[0m\u001b[1;32m    138\u001b[0m \u001b[0;34m\u001b[0m\u001b[0m\n\u001b[1;32m    139\u001b[0m \u001b[0;34m\u001b[0m\u001b[0m\n",
            "\u001b[0;32m/usr/lib/python3.9/queue.py\u001b[0m in \u001b[0;36mget\u001b[0;34m(self, block, timeout)\u001b[0m\n\u001b[1;32m    169\u001b[0m             \u001b[0;32melif\u001b[0m \u001b[0mtimeout\u001b[0m \u001b[0;32mis\u001b[0m \u001b[0;32mNone\u001b[0m\u001b[0;34m:\u001b[0m\u001b[0;34m\u001b[0m\u001b[0;34m\u001b[0m\u001b[0m\n\u001b[1;32m    170\u001b[0m                 \u001b[0;32mwhile\u001b[0m \u001b[0;32mnot\u001b[0m \u001b[0mself\u001b[0m\u001b[0;34m.\u001b[0m\u001b[0m_qsize\u001b[0m\u001b[0;34m(\u001b[0m\u001b[0;34m)\u001b[0m\u001b[0;34m:\u001b[0m\u001b[0;34m\u001b[0m\u001b[0;34m\u001b[0m\u001b[0m\n\u001b[0;32m--> 171\u001b[0;31m                     \u001b[0mself\u001b[0m\u001b[0;34m.\u001b[0m\u001b[0mnot_empty\u001b[0m\u001b[0;34m.\u001b[0m\u001b[0mwait\u001b[0m\u001b[0;34m(\u001b[0m\u001b[0;34m)\u001b[0m\u001b[0;34m\u001b[0m\u001b[0;34m\u001b[0m\u001b[0m\n\u001b[0m\u001b[1;32m    172\u001b[0m             \u001b[0;32melif\u001b[0m \u001b[0mtimeout\u001b[0m \u001b[0;34m<\u001b[0m \u001b[0;36m0\u001b[0m\u001b[0;34m:\u001b[0m\u001b[0;34m\u001b[0m\u001b[0;34m\u001b[0m\u001b[0m\n\u001b[1;32m    173\u001b[0m                 \u001b[0;32mraise\u001b[0m \u001b[0mValueError\u001b[0m\u001b[0;34m(\u001b[0m\u001b[0;34m\"'timeout' must be a non-negative number\"\u001b[0m\u001b[0;34m)\u001b[0m\u001b[0;34m\u001b[0m\u001b[0;34m\u001b[0m\u001b[0m\n",
            "\u001b[0;32m/usr/lib/python3.9/threading.py\u001b[0m in \u001b[0;36mwait\u001b[0;34m(self, timeout)\u001b[0m\n\u001b[1;32m    310\u001b[0m         \u001b[0;32mtry\u001b[0m\u001b[0;34m:\u001b[0m    \u001b[0;31m# restore state no matter what (e.g., KeyboardInterrupt)\u001b[0m\u001b[0;34m\u001b[0m\u001b[0;34m\u001b[0m\u001b[0m\n\u001b[1;32m    311\u001b[0m             \u001b[0;32mif\u001b[0m \u001b[0mtimeout\u001b[0m \u001b[0;32mis\u001b[0m \u001b[0;32mNone\u001b[0m\u001b[0;34m:\u001b[0m\u001b[0;34m\u001b[0m\u001b[0;34m\u001b[0m\u001b[0m\n\u001b[0;32m--> 312\u001b[0;31m                 \u001b[0mwaiter\u001b[0m\u001b[0;34m.\u001b[0m\u001b[0macquire\u001b[0m\u001b[0;34m(\u001b[0m\u001b[0;34m)\u001b[0m\u001b[0;34m\u001b[0m\u001b[0;34m\u001b[0m\u001b[0m\n\u001b[0m\u001b[1;32m    313\u001b[0m                 \u001b[0mgotit\u001b[0m \u001b[0;34m=\u001b[0m \u001b[0;32mTrue\u001b[0m\u001b[0;34m\u001b[0m\u001b[0;34m\u001b[0m\u001b[0m\n\u001b[1;32m    314\u001b[0m             \u001b[0;32melse\u001b[0m\u001b[0;34m:\u001b[0m\u001b[0;34m\u001b[0m\u001b[0;34m\u001b[0m\u001b[0m\n",
            "\u001b[0;31mKeyboardInterrupt\u001b[0m: "
          ]
        }
      ]
    },
    {
      "cell_type": "code",
      "source": [
        "transactions_file = '/content/drive/MyDrive/1經濟學/專題/transactions.csv'\n",
        "reduced_file = 'reducedddd.csv'"
      ],
      "metadata": {
        "id": "pvfmvn2Puz6G"
      },
      "execution_count": null,
      "outputs": []
    },
    {
      "cell_type": "code",
      "source": [],
      "metadata": {
        "id": "a4zMQhLxwsM2"
      },
      "execution_count": null,
      "outputs": []
    },
    {
      "cell_type": "code",
      "source": [
        "%%time\n",
        "with open(reduced_file, \"wb\") as outfile:\n",
        "  reduced = 0\n",
        "  for e, line in enumerate( open(transactions_file) ):\n",
        "    id = line.split(\",\")[0]\n",
        "    if e == 0:\n",
        "      outfile.write(line.encode())\n",
        "    else:\n",
        "      if(line.split(\",\")[0]!=id) :\n",
        "        \n",
        "      outfile.write(line.encode())\n",
        "      reduced += 1\n",
        "    if e % 5000000 == 0:\n",
        "      if reduced > 20000000 :\n",
        "        break\n",
        "print(e, reduced)"
      ],
      "metadata": {
        "colab": {
          "base_uri": "https://localhost:8080/"
        },
        "id": "2IVc530vurnB",
        "outputId": "4f333850-35b6-4df6-f63d-40846acca2fd"
      },
      "execution_count": null,
      "outputs": [
        {
          "output_type": "stream",
          "name": "stdout",
          "text": [
            "25000000 25000000\n",
            "CPU times: user 14 s, sys: 4.35 s, total: 18.4 s\n",
            "Wall time: 20.2 s\n"
          ]
        }
      ]
    },
    {
      "cell_type": "code",
      "source": [],
      "metadata": {
        "colab": {
          "base_uri": "https://localhost:8080/",
          "height": 35
        },
        "id": "cPf6NOjvvlrp",
        "outputId": "ab415d5f-db7d-4a3a-9c04-4729c7fa88ae"
      },
      "execution_count": null,
      "outputs": [
        {
          "output_type": "execute_result",
          "data": {
            "text/plain": [
              "'222481657'"
            ],
            "application/vnd.google.colaboratory.intrinsic+json": {
              "type": "string"
            }
          },
          "metadata": {},
          "execution_count": 37
        }
      ]
    },
    {
      "cell_type": "code",
      "source": [
        "df"
      ],
      "metadata": {
        "colab": {
          "base_uri": "https://localhost:8080/",
          "height": 424
        },
        "id": "SWRGI76rvlkQ",
        "outputId": "d6d69cce-73d4-44bf-eff2-836374863b3f"
      },
      "execution_count": null,
      "outputs": [
        {
          "output_type": "execute_result",
          "data": {
            "text/plain": [
              "                id  chain  dept  category     company  brand        date  \\\n",
              "0            86246    205     7       707  1078778070  12564  2012-03-02   \n",
              "1            86246    205    63      6319   107654575  17876  2012-03-02   \n",
              "2            86246    205    97      9753  1022027929      0  2012-03-02   \n",
              "3            86246    205    25      2509   107996777  31373  2012-03-02   \n",
              "4            86246    205    55      5555   107684070  32094  2012-03-02   \n",
              "...            ...    ...   ...       ...         ...    ...         ...   \n",
              "4999995  120912706     88    51      5123   102113020  15704  2012-03-23   \n",
              "4999996  120912706     88    56      5610   102113020  15704  2012-03-23   \n",
              "4999997  120912706     88    33      3308   102840020   3336  2012-03-23   \n",
              "4999998  120912706     88    26      2634   104200040  14813  2012-03-23   \n",
              "4999999  120912706     88    58      5837   107187171  13310  2012-03-23   \n",
              "\n",
              "         productsize productmeasure  purchasequantity  purchaseamount  \n",
              "0              12.00             OZ                 1            7.59  \n",
              "1              64.00             OZ                 1            1.59  \n",
              "2               1.00             CT                 1            5.99  \n",
              "3              16.00             OZ                 1            1.99  \n",
              "4              16.00             OZ                 2           10.38  \n",
              "...              ...            ...               ...             ...  \n",
              "4999995        26.40             OZ                 2           12.99  \n",
              "4999996         8.00             OZ                 1           -1.20  \n",
              "4999997         9.75             OZ                 3            6.83  \n",
              "4999998        12.00             RL                 1            4.71  \n",
              "4999999        36.00             OZ                 1            5.00  \n",
              "\n",
              "[5000000 rows x 11 columns]"
            ],
            "text/html": [
              "\n",
              "  <div id=\"df-242764df-b01c-45a5-ae2f-e9b501010d34\">\n",
              "    <div class=\"colab-df-container\">\n",
              "      <div>\n",
              "<style scoped>\n",
              "    .dataframe tbody tr th:only-of-type {\n",
              "        vertical-align: middle;\n",
              "    }\n",
              "\n",
              "    .dataframe tbody tr th {\n",
              "        vertical-align: top;\n",
              "    }\n",
              "\n",
              "    .dataframe thead th {\n",
              "        text-align: right;\n",
              "    }\n",
              "</style>\n",
              "<table border=\"1\" class=\"dataframe\">\n",
              "  <thead>\n",
              "    <tr style=\"text-align: right;\">\n",
              "      <th></th>\n",
              "      <th>id</th>\n",
              "      <th>chain</th>\n",
              "      <th>dept</th>\n",
              "      <th>category</th>\n",
              "      <th>company</th>\n",
              "      <th>brand</th>\n",
              "      <th>date</th>\n",
              "      <th>productsize</th>\n",
              "      <th>productmeasure</th>\n",
              "      <th>purchasequantity</th>\n",
              "      <th>purchaseamount</th>\n",
              "    </tr>\n",
              "  </thead>\n",
              "  <tbody>\n",
              "    <tr>\n",
              "      <th>0</th>\n",
              "      <td>86246</td>\n",
              "      <td>205</td>\n",
              "      <td>7</td>\n",
              "      <td>707</td>\n",
              "      <td>1078778070</td>\n",
              "      <td>12564</td>\n",
              "      <td>2012-03-02</td>\n",
              "      <td>12.00</td>\n",
              "      <td>OZ</td>\n",
              "      <td>1</td>\n",
              "      <td>7.59</td>\n",
              "    </tr>\n",
              "    <tr>\n",
              "      <th>1</th>\n",
              "      <td>86246</td>\n",
              "      <td>205</td>\n",
              "      <td>63</td>\n",
              "      <td>6319</td>\n",
              "      <td>107654575</td>\n",
              "      <td>17876</td>\n",
              "      <td>2012-03-02</td>\n",
              "      <td>64.00</td>\n",
              "      <td>OZ</td>\n",
              "      <td>1</td>\n",
              "      <td>1.59</td>\n",
              "    </tr>\n",
              "    <tr>\n",
              "      <th>2</th>\n",
              "      <td>86246</td>\n",
              "      <td>205</td>\n",
              "      <td>97</td>\n",
              "      <td>9753</td>\n",
              "      <td>1022027929</td>\n",
              "      <td>0</td>\n",
              "      <td>2012-03-02</td>\n",
              "      <td>1.00</td>\n",
              "      <td>CT</td>\n",
              "      <td>1</td>\n",
              "      <td>5.99</td>\n",
              "    </tr>\n",
              "    <tr>\n",
              "      <th>3</th>\n",
              "      <td>86246</td>\n",
              "      <td>205</td>\n",
              "      <td>25</td>\n",
              "      <td>2509</td>\n",
              "      <td>107996777</td>\n",
              "      <td>31373</td>\n",
              "      <td>2012-03-02</td>\n",
              "      <td>16.00</td>\n",
              "      <td>OZ</td>\n",
              "      <td>1</td>\n",
              "      <td>1.99</td>\n",
              "    </tr>\n",
              "    <tr>\n",
              "      <th>4</th>\n",
              "      <td>86246</td>\n",
              "      <td>205</td>\n",
              "      <td>55</td>\n",
              "      <td>5555</td>\n",
              "      <td>107684070</td>\n",
              "      <td>32094</td>\n",
              "      <td>2012-03-02</td>\n",
              "      <td>16.00</td>\n",
              "      <td>OZ</td>\n",
              "      <td>2</td>\n",
              "      <td>10.38</td>\n",
              "    </tr>\n",
              "    <tr>\n",
              "      <th>...</th>\n",
              "      <td>...</td>\n",
              "      <td>...</td>\n",
              "      <td>...</td>\n",
              "      <td>...</td>\n",
              "      <td>...</td>\n",
              "      <td>...</td>\n",
              "      <td>...</td>\n",
              "      <td>...</td>\n",
              "      <td>...</td>\n",
              "      <td>...</td>\n",
              "      <td>...</td>\n",
              "    </tr>\n",
              "    <tr>\n",
              "      <th>4999995</th>\n",
              "      <td>120912706</td>\n",
              "      <td>88</td>\n",
              "      <td>51</td>\n",
              "      <td>5123</td>\n",
              "      <td>102113020</td>\n",
              "      <td>15704</td>\n",
              "      <td>2012-03-23</td>\n",
              "      <td>26.40</td>\n",
              "      <td>OZ</td>\n",
              "      <td>2</td>\n",
              "      <td>12.99</td>\n",
              "    </tr>\n",
              "    <tr>\n",
              "      <th>4999996</th>\n",
              "      <td>120912706</td>\n",
              "      <td>88</td>\n",
              "      <td>56</td>\n",
              "      <td>5610</td>\n",
              "      <td>102113020</td>\n",
              "      <td>15704</td>\n",
              "      <td>2012-03-23</td>\n",
              "      <td>8.00</td>\n",
              "      <td>OZ</td>\n",
              "      <td>1</td>\n",
              "      <td>-1.20</td>\n",
              "    </tr>\n",
              "    <tr>\n",
              "      <th>4999997</th>\n",
              "      <td>120912706</td>\n",
              "      <td>88</td>\n",
              "      <td>33</td>\n",
              "      <td>3308</td>\n",
              "      <td>102840020</td>\n",
              "      <td>3336</td>\n",
              "      <td>2012-03-23</td>\n",
              "      <td>9.75</td>\n",
              "      <td>OZ</td>\n",
              "      <td>3</td>\n",
              "      <td>6.83</td>\n",
              "    </tr>\n",
              "    <tr>\n",
              "      <th>4999998</th>\n",
              "      <td>120912706</td>\n",
              "      <td>88</td>\n",
              "      <td>26</td>\n",
              "      <td>2634</td>\n",
              "      <td>104200040</td>\n",
              "      <td>14813</td>\n",
              "      <td>2012-03-23</td>\n",
              "      <td>12.00</td>\n",
              "      <td>RL</td>\n",
              "      <td>1</td>\n",
              "      <td>4.71</td>\n",
              "    </tr>\n",
              "    <tr>\n",
              "      <th>4999999</th>\n",
              "      <td>120912706</td>\n",
              "      <td>88</td>\n",
              "      <td>58</td>\n",
              "      <td>5837</td>\n",
              "      <td>107187171</td>\n",
              "      <td>13310</td>\n",
              "      <td>2012-03-23</td>\n",
              "      <td>36.00</td>\n",
              "      <td>OZ</td>\n",
              "      <td>1</td>\n",
              "      <td>5.00</td>\n",
              "    </tr>\n",
              "  </tbody>\n",
              "</table>\n",
              "<p>5000000 rows × 11 columns</p>\n",
              "</div>\n",
              "      <button class=\"colab-df-convert\" onclick=\"convertToInteractive('df-242764df-b01c-45a5-ae2f-e9b501010d34')\"\n",
              "              title=\"Convert this dataframe to an interactive table.\"\n",
              "              style=\"display:none;\">\n",
              "        \n",
              "  <svg xmlns=\"http://www.w3.org/2000/svg\" height=\"24px\"viewBox=\"0 0 24 24\"\n",
              "       width=\"24px\">\n",
              "    <path d=\"M0 0h24v24H0V0z\" fill=\"none\"/>\n",
              "    <path d=\"M18.56 5.44l.94 2.06.94-2.06 2.06-.94-2.06-.94-.94-2.06-.94 2.06-2.06.94zm-11 1L8.5 8.5l.94-2.06 2.06-.94-2.06-.94L8.5 2.5l-.94 2.06-2.06.94zm10 10l.94 2.06.94-2.06 2.06-.94-2.06-.94-.94-2.06-.94 2.06-2.06.94z\"/><path d=\"M17.41 7.96l-1.37-1.37c-.4-.4-.92-.59-1.43-.59-.52 0-1.04.2-1.43.59L10.3 9.45l-7.72 7.72c-.78.78-.78 2.05 0 2.83L4 21.41c.39.39.9.59 1.41.59.51 0 1.02-.2 1.41-.59l7.78-7.78 2.81-2.81c.8-.78.8-2.07 0-2.86zM5.41 20L4 18.59l7.72-7.72 1.47 1.35L5.41 20z\"/>\n",
              "  </svg>\n",
              "      </button>\n",
              "      \n",
              "  <style>\n",
              "    .colab-df-container {\n",
              "      display:flex;\n",
              "      flex-wrap:wrap;\n",
              "      gap: 12px;\n",
              "    }\n",
              "\n",
              "    .colab-df-convert {\n",
              "      background-color: #E8F0FE;\n",
              "      border: none;\n",
              "      border-radius: 50%;\n",
              "      cursor: pointer;\n",
              "      display: none;\n",
              "      fill: #1967D2;\n",
              "      height: 32px;\n",
              "      padding: 0 0 0 0;\n",
              "      width: 32px;\n",
              "    }\n",
              "\n",
              "    .colab-df-convert:hover {\n",
              "      background-color: #E2EBFA;\n",
              "      box-shadow: 0px 1px 2px rgba(60, 64, 67, 0.3), 0px 1px 3px 1px rgba(60, 64, 67, 0.15);\n",
              "      fill: #174EA6;\n",
              "    }\n",
              "\n",
              "    [theme=dark] .colab-df-convert {\n",
              "      background-color: #3B4455;\n",
              "      fill: #D2E3FC;\n",
              "    }\n",
              "\n",
              "    [theme=dark] .colab-df-convert:hover {\n",
              "      background-color: #434B5C;\n",
              "      box-shadow: 0px 1px 3px 1px rgba(0, 0, 0, 0.15);\n",
              "      filter: drop-shadow(0px 1px 2px rgba(0, 0, 0, 0.3));\n",
              "      fill: #FFFFFF;\n",
              "    }\n",
              "  </style>\n",
              "\n",
              "      <script>\n",
              "        const buttonEl =\n",
              "          document.querySelector('#df-242764df-b01c-45a5-ae2f-e9b501010d34 button.colab-df-convert');\n",
              "        buttonEl.style.display =\n",
              "          google.colab.kernel.accessAllowed ? 'block' : 'none';\n",
              "\n",
              "        async function convertToInteractive(key) {\n",
              "          const element = document.querySelector('#df-242764df-b01c-45a5-ae2f-e9b501010d34');\n",
              "          const dataTable =\n",
              "            await google.colab.kernel.invokeFunction('convertToInteractive',\n",
              "                                                     [key], {});\n",
              "          if (!dataTable) return;\n",
              "\n",
              "          const docLinkHtml = 'Like what you see? Visit the ' +\n",
              "            '<a target=\"_blank\" href=https://colab.research.google.com/notebooks/data_table.ipynb>data table notebook</a>'\n",
              "            + ' to learn more about interactive tables.';\n",
              "          element.innerHTML = '';\n",
              "          dataTable['output_type'] = 'display_data';\n",
              "          await google.colab.output.renderOutput(dataTable, element);\n",
              "          const docLink = document.createElement('div');\n",
              "          docLink.innerHTML = docLinkHtml;\n",
              "          element.appendChild(docLink);\n",
              "        }\n",
              "      </script>\n",
              "    </div>\n",
              "  </div>\n",
              "  "
            ]
          },
          "metadata": {},
          "execution_count": 40
        }
      ]
    },
    {
      "cell_type": "code",
      "source": [],
      "metadata": {
        "id": "sDkfJw-0vEli"
      },
      "execution_count": null,
      "outputs": []
    },
    {
      "cell_type": "code",
      "source": [
        "use = generateFeature(offers, transactions, trainhistory, testhistory, 1)"
      ],
      "metadata": {
        "id": "sJ2CdVxAUako"
      },
      "execution_count": null,
      "outputs": []
    },
    {
      "cell_type": "code",
      "source": [],
      "metadata": {
        "id": "sIjHKwCETv5L"
      },
      "execution_count": null,
      "outputs": []
    },
    {
      "cell_type": "code",
      "source": [
        "k"
      ],
      "metadata": {
        "colab": {
          "base_uri": "https://localhost:8080/"
        },
        "id": "1d_12nRzO_E_",
        "outputId": "98f5d9c0-8555-4c33-f87f-dae43e74a44b"
      },
      "execution_count": null,
      "outputs": [
        {
          "output_type": "execute_result",
          "data": {
            "text/plain": [
              "0"
            ]
          },
          "metadata": {},
          "execution_count": 223
        }
      ]
    },
    {
      "cell_type": "code",
      "source": [
        "group[0][1].values.astype(str)"
      ],
      "metadata": {
        "id": "-6r0pZCqE0vD"
      },
      "execution_count": null,
      "outputs": []
    },
    {
      "cell_type": "code",
      "source": [
        "out_l = pd.DataFrame(group[0][1].values.astype(str))\n",
        "out_l.info(memory_usage='deep')\n",
        "out_l.shape"
      ],
      "metadata": {
        "id": "Of_LWU0NDnCF"
      },
      "execution_count": null,
      "outputs": []
    },
    {
      "cell_type": "code",
      "source": [
        "k = 1\n",
        "for i ,j in df.iterrows():\n",
        "  if(k==1) :\n",
        "    print(\"This is i : \", i, \"This is j : \", j)\n",
        "  k+=1"
      ],
      "metadata": {
        "id": "bc3x_9OL5Uw4"
      },
      "execution_count": null,
      "outputs": []
    },
    {
      "cell_type": "code",
      "source": [
        "offers_file = '/content/drive/MyDrive/1經濟學/專題/offers.csv'\n",
        "transactions_file = '/content/drive/MyDrive/1經濟學/專題/transactions.csv'\n",
        "reduced_file = '/content/drive/MyDrive/1經濟學/專題/reduceddd.csv'"
      ],
      "metadata": {
        "id": "I_yweWQF2JIB"
      },
      "execution_count": null,
      "outputs": []
    },
    {
      "cell_type": "code",
      "source": [
        "from datetime import datetime, date\n",
        "import string, os\n",
        "from collections import defaultdict\n",
        "start = datetime.now()\n",
        "#get all categories and comps on offer in a dict\n",
        "offers_cat = {}\n",
        "offers_co = {}\n",
        "for e, line in enumerate( open(offers_file) ):\n",
        "  offers_cat[ line.split(\",\")[1] ] = 1\n",
        "  offers_co[ line.split(\",\")[3] ] = 1\n",
        "#open output file\n",
        "with open(reduced_file, \"wb\") as outfile:\n",
        "  #go through transactions file and reduce\n",
        "  reduced = 0\n",
        "  for e, line in enumerate( open(transactions_file) ):\n",
        "    if e == 0:\n",
        "      print(line) #print header\n",
        "    else:\n",
        "      #only write when if category in offers dict\n",
        "      if line.split(\",\")[3] in offers_cat or line.split(\",\")[4] in offers_co:\n",
        "        outfile.write(line.encode())\n",
        "        reduced += 1\n",
        "    #progress\n",
        "    if e % 5000000 == 0:\n",
        "      print(e, reduced, datetime.now() - start)\n",
        "print(e, reduced, datetime.now() - start)"
      ],
      "metadata": {
        "id": "OqPRPEIQ19x1"
      },
      "execution_count": null,
      "outputs": []
    },
    {
      "cell_type": "code",
      "source": [
        "def generateFeature(offers, transactions, trainHistory, testHistory, tidx) :\n",
        "    # import useful package\n",
        "    from datetime import timedelta\n",
        "    from itertools import cycle\n",
        "    import pandas as pd\n",
        "    import numpy as np\n",
        "    import time\n",
        "    import gc\n",
        "    ts = time.time()\n",
        "    # tk = 1\n",
        "    \n",
        "    # get all data & delete those not in transactions\n",
        "    train = trainHistory.drop(columns = ['repeater', 'repeattrips'])\n",
        "    data = pd.concat([train, testHistory], axis=0, ignore_index=True)\n",
        "    use = data[data['id'].isin(transactions['id'])] # (310665, )\n",
        "\n",
        "    del trainHistory, train, testHistory\n",
        "    gc.collect()\n",
        "    \n",
        "    # te = time.time()\n",
        "    # print('Inner -', str(tidx) + ' of ' + str(tk) + '(get all data) -> time elapsed: ' + str(round(te-ts, 2)) + ' seconds')\n",
        "    # tk+=1\n",
        "    \n",
        "    # put offer information into transactions\n",
        "    of = offers[['offer', 'category', 'company', 'offervalue', 'brand']]\n",
        "    usf = pd.merge(use, of, on='offer')\n",
        "    usf.columns = ['id', 'chain', 'offer', 'market', 'offerdate', 'offercategory', 'offercompany',\n",
        "          'offervalue', 'offerbrand']\n",
        "    tu = usf[['id', 'offer', 'offerdate', 'offercategory', 'offercompany', 'offerbrand']]\n",
        "    nu = pd.merge(tu, transactions, on='id')\n",
        "    \n",
        "    del tu, usf, of, transactions\n",
        "    gc.collect()\n",
        "    \n",
        "    # te = time.time()\n",
        "    # print('Inner -', str(tidx) + ' of ' + str(tk) + '(put offer information) -> time elapsed: ' + str(round(te-ts, 2)) + ' seconds')\n",
        "    # tk+=1\n",
        "    \n",
        "    # generate time index\n",
        "    date_format = '%Y-%m-%d'\n",
        "    nu['offerdate'] = pd.to_datetime(nu['offerdate'], format = date_format)\n",
        "    nu['date'] = pd.to_datetime(nu['date'], format = date_format)\n",
        "    nu['daydiff'] = nu['offerdate'] - nu['date']\n",
        "    nu['diff_180'] = nu['offerdate'] - timedelta(days = 180)\n",
        "    nu['diff_150'] = nu['offerdate'] - timedelta(days = 150)\n",
        "    nu['diff_120'] = nu['offerdate'] - timedelta(days = 120)\n",
        "    nu['diff_90'] = nu['offerdate'] - timedelta(days = 90)\n",
        "    nu['diff_60'] = nu['offerdate'] - timedelta(days = 60)\n",
        "    nu['diff_30'] = nu['offerdate'] - timedelta(days = 30)\n",
        "    \n",
        "    # te = time.time()\n",
        "    # print('Inner -', str(tidx) + ' of ' + str(tk) + '(generate time index) -> time elapsed: ' + str(round(te-ts, 2)) + ' seconds')\n",
        "    # tk+=1\n",
        "    \n",
        "    # put offervalue\n",
        "    of1 = offers[['offer', 'offervalue']]\n",
        "    use = pd.merge(use, of1, on='offer')\n",
        "    \n",
        "    # te = time.time()\n",
        "    # print('Inner -', str(tidx) + ' of ' + str(tk) + '(put offervalue) -> time elapsed: ' + str(round(te-ts, 2)) + ' seconds')\n",
        "    # tk+=1\n",
        "    \n",
        "    # generate total\n",
        "    group = nu.groupby(['id'])\n",
        "    \n",
        "    test = group['chain'].count().reset_index()\n",
        "    test.columns = ['id', 'buy_total_freq']\n",
        "    use = pd.merge(use, test, on='id')\n",
        "    \n",
        "    # te = time.time()\n",
        "    # print('Inner -', str(tidx) + ' of ' + str(tk) + '(generate total freq) -> time elapsed: ' + str(round(te-ts, 2)) + ' seconds')\n",
        "    # tk+=1\n",
        "    \n",
        "    test = group['purchaseamount'].sum().reset_index()\n",
        "    test.columns = ['id', 'buy_total_amount']\n",
        "    use = pd.merge(use, test, on='id')\n",
        "    \n",
        "    # te = time.time()\n",
        "    # print('Inner -', str(tidx) + ' of ' + str(tk) + '(generate total amount) -> time elapsed: ' + str(round(te-ts, 2)) + ' seconds')\n",
        "    # tk+=1\n",
        "    \n",
        "    test = group['purchaseamount'].mean().reset_index()\n",
        "    test.columns = ['id', 'buy_total_avgamount']\n",
        "    use = pd.merge(use, test, on='id')\n",
        "    \n",
        "    # te = time.time()\n",
        "    # print('Inner -', str(tidx) + ' of ' + str(tk) + '(generate total avg) -> time elapsed: ' + str(round(te-ts, 2)) + ' seconds')\n",
        "    # tk+=1\n",
        "    \n",
        "    test = group['purchasequantity'].sum().reset_index()\n",
        "    test.columns = ['id', 'buy_total_quantity']\n",
        "    use = pd.merge(use, test, on='id')\n",
        "    \n",
        "    # te = time.time()\n",
        "    # print('Inner -', str(tidx) + ' of ' + str(tk) + '(generate total quan) -> time elapsed: ' + str(round(te-ts, 2)) + ' seconds')\n",
        "    # tk+=1\n",
        "    \n",
        "    test = group['daydiff'].min().reset_index()\n",
        "    test.columns = ['id', 'buy_total_daydiff']\n",
        "    use = pd.merge(use, test, on='id')\n",
        "    \n",
        "    # te = time.time()\n",
        "    # print('Inner -', str(tidx) + ' of ' + str(tk) + '(generate total) -> time elapsed: ' + str(round(te-ts, 2)) + ' seconds')\n",
        "    # tk+=1\n",
        "    \n",
        "    \n",
        "    day = np.linspace(30, 180, 6, endpoint=True).astype(int).astype(str)\n",
        "    \n",
        "    for i in day :\n",
        "      daa = 'diff_' + i\n",
        "      nu['ascom'] = nu['date'] >= nu[daa]\n",
        "    \n",
        "      name = 'buy_total_amount_' + i\n",
        "      var = 'purchaseamount'\n",
        "    \n",
        "      group = nu.groupby(['id', 'ascom'])\n",
        "      test = group[var].sum().reset_index()\n",
        "      test.columns = ['id', 'ascom', name]\n",
        "      use = pd.merge(use, test[test['ascom']][['id', name]], on='id', how = 'outer')\n",
        "    \n",
        "      # te = time.time()\n",
        "      # print('Inner -', str(tidx) + ' of ' + str(tk) + '(generate day amount) -> time elapsed: ' + str(round(te-ts, 2)) + ' seconds')\n",
        "      # tk+=1\n",
        "    \n",
        "      name = 'buy_total_quantity_' + i\n",
        "      var = 'purchasequantity'\n",
        "    \n",
        "      group = nu.groupby(['id', 'ascom'])\n",
        "      test = group[var].sum().reset_index()\n",
        "      test.columns = ['id', 'ascom', name]\n",
        "      use = pd.merge(use, test[test['ascom']][['id', name]], on='id', how = 'outer')\n",
        "    \n",
        "      # te = time.time()\n",
        "      # print('Inner -', str(tidx) + ' of ' + str(tk) + '(generate day quan) -> time elapsed: ' + str(round(te-ts, 2)) + ' seconds')\n",
        "      # tk+=1\n",
        "    \n",
        "      name = 'buy_total_freq_' + i\n",
        "      var = 'purchaseamount'\n",
        "    \n",
        "      group = nu.groupby(['id', 'ascom'])\n",
        "      test = group['chain'].count().reset_index()\n",
        "      test.columns = ['id', 'ascom', name]\n",
        "      use = pd.merge(use, test[test['ascom']][['id', name]], on='id', how = 'outer')\n",
        "    \n",
        "      # te = time.time()\n",
        "      # print('Inner -', str(tidx) + ' of ' + str(tk) + '(generate day) -> time elapsed: ' + str(round(te-ts, 2)) + ' seconds')\n",
        "      # tk+=1\n",
        "    \n",
        "    # generate company & brand & category\n",
        "    mea = ['company', 'brand', 'category']\n",
        "    day = np.repeat(np.linspace(30, 180, 6, endpoint=True), 3).astype(int).astype(str)\n",
        "    \n",
        "    for i in mea :\n",
        "      nu['ascom'] = nu[i] == nu['offer' + i]\n",
        "      group = nu.groupby(['id', 'ascom'])\n",
        "    \n",
        "      test = group['chain'].count().reset_index()\n",
        "      test.columns = ['id', 'ascom', 'buy_'+i+'_freq']\n",
        "      use = pd.merge(use, test[test['ascom']][['id', 'buy_'+i+'_freq']], on='id', how = 'outer')\n",
        "    \n",
        "      # te = time.time()\n",
        "      # print('Inner -', str(tidx) + ' of ' + str(tk) + '(generate other freq) -> time elapsed: ' + str(round(te-ts, 2)) + ' seconds')\n",
        "      # tk+=1\n",
        "    \n",
        "      test = group['purchaseamount'].sum().reset_index()\n",
        "      test.columns = ['id', 'ascom', 'buy_'+i+'_amount']\n",
        "      use = pd.merge(use, test[test['ascom']][['id', 'buy_'+i+'_amount']], on='id', how = 'outer')\n",
        "    \n",
        "      # te = time.time()\n",
        "      # print('Inner -', str(tidx) + ' of ' + str(tk) + '(generate other amount) -> time elapsed: ' + str(round(te-ts, 2)) + ' seconds')\n",
        "      # tk+=1\n",
        "    \n",
        "      test = group['purchaseamount'].mean().reset_index()\n",
        "      test.columns = ['id', 'ascom', 'buy_'+i+'_avgamount']\n",
        "      use = pd.merge(use, test[test['ascom']][['id', 'buy_'+i+'_avgamount']], on='id', how = 'outer')\n",
        "    \n",
        "      # te = time.time()\n",
        "      # print('Inner -', str(tidx) + ' of ' + str(tk) + '(generate other avg) -> time elapsed: ' + str(round(te-ts, 2)) + ' seconds')\n",
        "      # tk+=1\n",
        "    \n",
        "      test = group['purchasequantity'].sum().reset_index()\n",
        "      test.columns = ['id', 'ascom', 'buy_'+i+'_quantity']\n",
        "      use = pd.merge(use, test[test['ascom']][['id', 'buy_'+i+'_quantity']], on='id', how = 'outer')\n",
        "    \n",
        "      # te = time.time()\n",
        "      # print('Inner -', str(tidx) + ' of ' + str(tk) + '(generate other quan) -> time elapsed: ' + str(round(te-ts, 2)) + ' seconds')\n",
        "      # tk+=1\n",
        "    \n",
        "      test = group['daydiff'].min().reset_index()\n",
        "      test.columns = ['id', 'ascom', 'buy_'+i+'_daydiff']\n",
        "      use = pd.merge(use, test[test['ascom']][['id', 'buy_'+i+'_daydiff']], on='id', how = 'outer')\n",
        "    \n",
        "      # te = time.time()\n",
        "      # print('Inner -', str(tidx) + ' of ' + str(tk) + '(generate other) -> time elapsed: ' + str(round(te-ts, 2)) + ' seconds')\n",
        "      # tk+=1\n",
        "    \n",
        "    \n",
        "    for i, j in zip(day, cycle(mea)) :\n",
        "      daa = 'diff_' + i\n",
        "      nu['ascom'] = ((nu['date'] >= nu[daa]) & (nu[j] == nu['offer' + j]))\n",
        "    \n",
        "      name = 'buy_'+j+'_amount_' + i\n",
        "      var = 'purchaseamount'\n",
        "    \n",
        "      group = nu.groupby(['id', 'ascom'])\n",
        "      test = group[var].sum().reset_index()\n",
        "      test.columns = ['id', 'ascom', name]\n",
        "      use = pd.merge(use, test[test['ascom']][['id', name]], on='id', how = 'outer')\n",
        "    \n",
        "      # te = time.time()\n",
        "      # print('Inner -', str(tidx) + ' of ' + str(tk) + '(generate other day amount) -> time elapsed: ' + str(round(te-ts, 2)) + ' seconds')\n",
        "      # tk+=1\n",
        "    \n",
        "      name = 'buy_'+j+'_quantity_' + i\n",
        "      var = 'purchasequantity'\n",
        "    \n",
        "      group = nu.groupby(['id', 'ascom'])\n",
        "      test = group[var].sum().reset_index()\n",
        "      test.columns = ['id', 'ascom', name]\n",
        "      use = pd.merge(use, test[test['ascom']][['id', name]], on='id', how = 'outer')\n",
        "    \n",
        "      # te = time.time()\n",
        "      # print('Inner -', str(tidx) + ' of ' + str(tk) + '(generate other day quan) -> time elapsed: ' + str(round(te-ts, 2)) + ' seconds')\n",
        "      # tk+=1\n",
        "    \n",
        "      name = 'buy_'+j+'_freq_' + i\n",
        "      var = 'purchaseamount'\n",
        "    \n",
        "      group = nu.groupby(['id', 'ascom'])\n",
        "      test = group['chain'].count().reset_index()\n",
        "      test.columns = ['id', 'ascom', name]\n",
        "      use = pd.merge(use, test[test['ascom']][['id', name]], on='id', how = 'outer')\n",
        "    \n",
        "      # te = time.time()\n",
        "      # # print('Inner -', str(tidx) + ' of ' + str(tk) + '(generate other day) -> time elapsed: ' + str(round(te-ts, 2)) + ' seconds')\n",
        "      # # tk+=1\n",
        "    \n",
        "    # generate not buy index\n",
        "    nu['ascom'] = (nu['company'] == nu['offercompany']) & (nu['brand'] == nu['offerbrand']) & (nu['category'] == nu['offercategory'])\n",
        "    group = nu.groupby(['id', 'ascom'])\n",
        "\n",
        "    name1 = 'buy_company_brand_category'\n",
        "    name = name1 + '_freq'\n",
        "\n",
        "    test = group['chain'].count().reset_index()\n",
        "    test.columns = ['id', 'ascom', name]\n",
        "    use = pd.merge(use, test[test['ascom']][['id', name]], on='id', how = 'outer')\n",
        "    new = pd.DataFrame((use[name] > 0) != True)\n",
        "    new.columns = ['not_' + name1]\n",
        "    use = pd.concat([use, new], axis = 1)\n",
        "\n",
        "\n",
        "\n",
        "    nu['ascom'] = (nu['company'] == nu['offercompany']) & (nu['brand'] == nu['offerbrand'])\n",
        "    group = nu.groupby(['id', 'ascom'])\n",
        "\n",
        "    name1 = 'buy_company_brand'\n",
        "    name = name1 + '_freq'\n",
        "\n",
        "    test = group['chain'].count().reset_index()\n",
        "    test.columns = ['id', 'ascom', name]\n",
        "    use = pd.merge(use, test[test['ascom']][['id', name]], on='id', how = 'outer')\n",
        "    new = pd.DataFrame((use[name] > 0) != True)\n",
        "    new.columns = ['not_' + name1]\n",
        "    use = pd.concat([use, new], axis = 1)\n",
        "\n",
        "\n",
        "\n",
        "    nu['ascom'] = (nu['company'] == nu['offercompany']) & (nu['category'] == nu['offercategory'])\n",
        "    group = nu.groupby(['id', 'ascom'])\n",
        "\n",
        "    name1 = 'buy_company_category'\n",
        "    name = name1 + '_freq'\n",
        "\n",
        "    test = group['chain'].count().reset_index()\n",
        "    test.columns = ['id', 'ascom', name]\n",
        "    use = pd.merge(use, test[test['ascom']][['id', name]], on='id', how = 'outer')\n",
        "    new = pd.DataFrame((use[name] > 0) != True)\n",
        "    new.columns = ['not_' + name1]\n",
        "    use = pd.concat([use, new], axis = 1)\n",
        "\n",
        "\n",
        "\n",
        "    nu['ascom'] = (nu['brand'] == nu['offerbrand']) & (nu['category'] == nu['offercategory'])\n",
        "    group = nu.groupby(['id', 'ascom'])\n",
        "\n",
        "    name1 = 'buy_brand_category'\n",
        "    name = name1 + '_freq'\n",
        "\n",
        "    test = group['chain'].count().reset_index()\n",
        "    test.columns = ['id', 'ascom', name]\n",
        "    use = pd.merge(use, test[test['ascom']][['id', name]], on='id', how = 'outer')\n",
        "    new = pd.DataFrame((use[name] > 0) != True)\n",
        "    new.columns = ['not_' + name1]\n",
        "    use = pd.concat([use, new], axis = 1)\n",
        "\n",
        "    del new\n",
        "    gc.collect()\n",
        "\n",
        "    new1 = pd.DataFrame((use['buy_company_freq'] > 0) != True)\n",
        "    new1.columns = ['not_buy_company']\n",
        "    new2 = pd.DataFrame((use['buy_brand_freq'] > 0) != True)\n",
        "    new2.columns = ['not_buy_brand']\n",
        "    new3 = pd.DataFrame((use['buy_category_freq'] > 0) != True)\n",
        "    new3.columns = ['not_buy_category']\n",
        "    use = pd.concat([use, new1, new2, new3], axis = 1)\n",
        "\n",
        "    del new1, new2, new3\n",
        "    gc.collect()\n",
        "\n",
        "    # handle na problem\n",
        "    dayVar = ['buy_company_daydiff', 'buy_brand_daydiff', 'buy_category_daydiff', 'buy_total_daydiff']\n",
        "    use1 = use[dayVar]\n",
        "    use.drop(columns = dayVar, inplace = True)\n",
        "    use = use.fillna(0)\n",
        "    use1 = use1.fillna(timedelta(0))\n",
        "    use = pd.concat([use, use1], axis = 1)\n",
        "\n",
        "    del use1\n",
        "    gc.collect()\n",
        "    \n",
        "    # te = time.time()\n",
        "    # print('Inner -', str(tidx) + ' of ' + str(tk) + '(handle na problem) -> time elapsed: ' + str(round(te-ts, 2)) + ' seconds')\n",
        "    # tk+=1\n",
        "    \n",
        "    # transform date type into int\n",
        "    for i in use[dayVar] :\n",
        "      use[i] = use[i].astype('str').apply(lambda x:x[:-5]).astype('int32')\n",
        "    \n",
        "    # te = time.time()\n",
        "    # print('Inner -', str(tidx) + ' of ' + str(tk) + '(transform date type) -> time elapsed: ' + str(round(te-ts, 2)) + ' seconds')\n",
        "    # tk+=1\n",
        "    \n",
        "    # transform bool type into int\n",
        "    for i in use.columns :\n",
        "      if(use[i].dtypes == 'bool') :\n",
        "        use[i] = use[i].apply(int)\n",
        "    \n",
        "    te = time.time()\n",
        "    print('Inner -', str(tidx) + ' (generate feature) -> time elapsed: ' + str(round(te-ts, 2)) + ' seconds')\n",
        "    \n",
        "    return use"
      ],
      "metadata": {
        "id": "QYT_pu7IT1rt"
      },
      "execution_count": null,
      "outputs": []
    },
    {
      "cell_type": "code",
      "source": [
        "import pandas as pd\n",
        "offers = pd.read_csv(r'/content/drive/MyDrive/1經濟學/專題/offers.csv')\n",
        "transactions = pd.read_csv(r'/content/drive/MyDrive/1經濟學/專題/newdata.csv')\n",
        "trainhistory = pd.read_csv(r'/content/drive/MyDrive/1經濟學/專題/trainHistory.csv')\n",
        "testhistory = pd.read_csv(r'/content/drive/MyDrive/1經濟學/專題/testHistory.csv')"
      ],
      "metadata": {
        "id": "4oVoxhOiyHvd"
      },
      "execution_count": null,
      "outputs": []
    },
    {
      "cell_type": "code",
      "source": [
        "%%time\n",
        "# import useful package\n",
        "from datetime import timedelta\n",
        "from itertools import cycle\n",
        "import pandas as pd\n",
        "import numpy as np\n",
        "import time\n",
        "import gc\n",
        "ts = time.time()\n",
        "# tk = 1\n",
        "\n",
        "# get all data & delete those not in transactions\n",
        "# trainhistory.drop(columns = ['repeater', 'repeattrips'], inplace = True)\n",
        "use = pd.concat([trainhistory.drop(columns = ['repeater', 'repeattrips']), testhistory], axis=0, ignore_index=True)\n",
        "# use = data[data['id'].isin(transactions['id'])] # (310665, )\n",
        "# usf = use.set_index('offer').join( \\\n",
        "#               offers.rename(columns={'category' : 'offercategory', 'company' : 'offercompany', 'brand' : 'offerbrand'}).set_index('offer'))\n",
        "offers.rename(columns={'category' : 'offercategory', 'company' : 'offercompany', 'brand' : 'offerbrand'}, inplace = True)\n",
        "usf = use.set_index('offer').join(offers.set_index('offer'))[['id', 'offerdate', 'offercategory', 'offercompany', 'offerbrand']]\n",
        "nu = transactions.set_index('id').join(usf.set_index('id'))\n",
        "del usf\n",
        "gc.collect()"
      ],
      "metadata": {
        "colab": {
          "base_uri": "https://localhost:8080/"
        },
        "id": "K89y3EaEw_5Q",
        "outputId": "fb89f57d-baee-4e47-ec29-382c5fc63df6"
      },
      "execution_count": null,
      "outputs": [
        {
          "output_type": "stream",
          "name": "stdout",
          "text": [
            "CPU times: user 3.1 s, sys: 2.61 s, total: 5.71 s\n",
            "Wall time: 5.71 s\n"
          ]
        },
        {
          "output_type": "execute_result",
          "data": {
            "text/plain": [
              "52"
            ]
          },
          "metadata": {},
          "execution_count": 137
        }
      ]
    },
    {
      "cell_type": "code",
      "source": [
        "a = nu.copy()"
      ],
      "metadata": {
        "id": "K7RG-CITBe1m"
      },
      "execution_count": null,
      "outputs": []
    },
    {
      "cell_type": "code",
      "source": [
        "pd.to_datetime(nu['offerdate'], format = date_format)"
      ],
      "metadata": {
        "colab": {
          "base_uri": "https://localhost:8080/"
        },
        "id": "TIclNwvrC73l",
        "outputId": "35609c84-c64f-42ae-c504-22e586972ecc"
      },
      "execution_count": null,
      "outputs": [
        {
          "output_type": "execute_result",
          "data": {
            "text/plain": [
              "id\n",
              "86246        2013-04-24\n",
              "86246        2013-04-24\n",
              "86246        2013-04-24\n",
              "86246        2013-04-24\n",
              "86246        2013-04-24\n",
              "                ...    \n",
              "4847628950   2013-07-24\n",
              "4847787712   2013-07-26\n",
              "4847787712   2013-07-26\n",
              "4853598737   2013-07-27\n",
              "4853598737   2013-07-27\n",
              "Name: offerdate, Length: 15349956, dtype: datetime64[ns]"
            ]
          },
          "metadata": {},
          "execution_count": 255
        }
      ]
    },
    {
      "cell_type": "code",
      "source": [
        "%%time\n",
        "date_format = '%Y-%m-%d'\n",
        "new = []\n",
        "nu['offerdate'] = pd.to_datetime(nu['offerdate'], format = date_format)\n",
        "nu['date'] = pd.to_datetime(nu['date'], format = date_format)"
      ],
      "metadata": {
        "colab": {
          "base_uri": "https://localhost:8080/"
        },
        "id": "CTh3p9gqD31L",
        "outputId": "2ad3a9e7-e5cb-48a6-ed72-6feff8cfb416"
      },
      "execution_count": null,
      "outputs": [
        {
          "output_type": "stream",
          "name": "stdout",
          "text": [
            "CPU times: user 2.31 s, sys: 457 ms, total: 2.76 s\n",
            "Wall time: 2.75 s\n"
          ]
        }
      ]
    },
    {
      "cell_type": "code",
      "source": [
        "new = []\n",
        "new.append(nu['offerdate'] - nu['date'])"
      ],
      "metadata": {
        "id": "CfQUtPb3DO1z"
      },
      "execution_count": null,
      "outputs": []
    },
    {
      "cell_type": "code",
      "source": [
        "for i in np.linspace(30, 180, 6, endpoint=True).astype(int).astype(str) :\n",
        "  new.append(nu['offerdate'] - timedelta(days = int(i)))"
      ],
      "metadata": {
        "id": "_GMir-bWFloo"
      },
      "execution_count": null,
      "outputs": []
    },
    {
      "cell_type": "code",
      "source": [
        "%%time\n",
        "new = nu['offerdate'] - nu['date']\n",
        "for i in np.linspace(30, 180, 6, endpoint=True) :\n",
        "  pd.concat([new, nu['offerdate'] - timedelta(days = i)], axis = 1)  "
      ],
      "metadata": {
        "colab": {
          "base_uri": "https://localhost:8080/"
        },
        "id": "fKKbkSyWHv-d",
        "outputId": "19fff2f1-fdd9-4e95-9514-ab9cd1773ee8"
      },
      "execution_count": null,
      "outputs": [
        {
          "output_type": "stream",
          "name": "stdout",
          "text": [
            "CPU times: user 1.61 s, sys: 889 ms, total: 2.5 s\n",
            "Wall time: 2.53 s\n"
          ]
        }
      ]
    },
    {
      "cell_type": "code",
      "source": [
        "new"
      ],
      "metadata": {
        "colab": {
          "base_uri": "https://localhost:8080/"
        },
        "id": "w2WL0ny8H7GZ",
        "outputId": "f6727fe8-1635-4548-c7fd-68bb71bf237d"
      },
      "execution_count": null,
      "outputs": [
        {
          "output_type": "execute_result",
          "data": {
            "text/plain": [
              "id\n",
              "86246        418 days\n",
              "86246        418 days\n",
              "86246        414 days\n",
              "86246        413 days\n",
              "86246        406 days\n",
              "               ...   \n",
              "4847628950     1 days\n",
              "4847787712     5 days\n",
              "4847787712     5 days\n",
              "4853598737     7 days\n",
              "4853598737     7 days\n",
              "Length: 15349956, dtype: timedelta64[ns]"
            ]
          },
          "metadata": {},
          "execution_count": 298
        }
      ]
    },
    {
      "cell_type": "code",
      "source": [
        "%%time\n",
        "date_format = '%Y-%m-%d'\n",
        "new = []\n",
        "nu['offerdate'] = pd.to_datetime(nu['offerdate'], format = date_format)\n",
        "nu['date'] = pd.to_datetime(nu['date'], format = date_format)\n",
        "\n",
        "\n",
        "nu['daydiff'] = nu['offerdate'] - nu['date']\n",
        "new.columns = ['offerdate']\n",
        "nu['diff_180'] = nu['offerdate'] - timedelta(days = 180)\n",
        "new.columns = ['offerdate']\n",
        "nu['diff_150'] = nu['offerdate'] - timedelta(days = 150)\n",
        "new.columns = ['offerdate']\n",
        "nu['diff_120'] = nu['offerdate'] - timedelta(days = 120)\n",
        "new.columns = ['offerdate']\n",
        "nu['diff_90'] = nu['offerdate'] - timedelta(days = 90)\n",
        "new.columns = ['offerdate']\n",
        "nu['diff_60'] = nu['offerdate'] - timedelta(days = 60)\n",
        "new.columns = ['offerdate']\n",
        "nu['diff_30'] = nu['offerdate'] - timedelta(days = 30)"
      ],
      "metadata": {
        "colab": {
          "base_uri": "https://localhost:8080/",
          "height": 150
        },
        "id": "cVS7SlGBBXGi",
        "outputId": "965bfe42-7908-49a3-8ed6-5ea1e0c37038"
      },
      "execution_count": null,
      "outputs": [
        {
          "output_type": "error",
          "ename": "AttributeError",
          "evalue": "ignored",
          "traceback": [
            "\u001b[0;31m---------------------------------------------------------------------------\u001b[0m",
            "\u001b[0;31mAttributeError\u001b[0m                            Traceback (most recent call last)",
            "\u001b[0;32m<timed exec>\u001b[0m in \u001b[0;36m<module>\u001b[0;34m\u001b[0m\n",
            "\u001b[0;31mAttributeError\u001b[0m: 'list' object has no attribute 'columns'"
          ]
        }
      ]
    },
    {
      "cell_type": "code",
      "source": [
        "day = np.linspace(30, 180, 6, endpoint = True).astype(int).astype(str)"
      ],
      "metadata": {
        "id": "5OT5Wq8mmJDq"
      },
      "execution_count": null,
      "outputs": []
    },
    {
      "cell_type": "code",
      "source": [
        "nu[['offerdate', 'date']].values"
      ],
      "metadata": {
        "colab": {
          "base_uri": "https://localhost:8080/"
        },
        "id": "fr3I5vOfnPns",
        "outputId": "111c8d7c-85b6-4f21-fa1d-1d5eca7b0b0f"
      },
      "execution_count": null,
      "outputs": [
        {
          "output_type": "execute_result",
          "data": {
            "text/plain": [
              "array([['2013-04-24T00:00:00.000000000', '2012-03-02T00:00:00.000000000'],\n",
              "       ['2013-04-24T00:00:00.000000000', '2012-03-02T00:00:00.000000000'],\n",
              "       ['2013-04-24T00:00:00.000000000', '2012-03-06T00:00:00.000000000'],\n",
              "       ...,\n",
              "       ['2013-07-26T00:00:00.000000000', '2013-07-21T00:00:00.000000000'],\n",
              "       ['2013-07-27T00:00:00.000000000', '2013-07-20T00:00:00.000000000'],\n",
              "       ['2013-07-27T00:00:00.000000000', '2013-07-20T00:00:00.000000000']],\n",
              "      dtype='datetime64[ns]')"
            ]
          },
          "metadata": {},
          "execution_count": 373
        }
      ]
    },
    {
      "cell_type": "code",
      "source": [
        "from datetime import datetime, timedelta"
      ],
      "metadata": {
        "id": "ldDmgb3j47e1"
      },
      "execution_count": null,
      "outputs": []
    },
    {
      "cell_type": "code",
      "source": [
        "trainhistory"
      ],
      "metadata": {
        "id": "7jA6xe4d5FAA"
      },
      "execution_count": null,
      "outputs": []
    },
    {
      "cell_type": "code",
      "source": [
        "date_format = '%Y-%m-%d'\n",
        "trainhistory['offerdate'].apply(lambda _: datetime.strptime(_, date_format))"
      ],
      "metadata": {
        "colab": {
          "base_uri": "https://localhost:8080/"
        },
        "id": "HwVwOHZV41FF",
        "outputId": "fabd1554-00ae-44c3-cd48-68407e2c1eeb"
      },
      "execution_count": null,
      "outputs": [
        {
          "output_type": "execute_result",
          "data": {
            "text/plain": [
              "0        2013-04-24\n",
              "1        2013-03-27\n",
              "2        2013-03-28\n",
              "3        2013-03-25\n",
              "4        2013-04-01\n",
              "            ...    \n",
              "160052   2013-04-22\n",
              "160053   2013-04-24\n",
              "160054   2013-04-02\n",
              "160055   2013-04-17\n",
              "160056   2013-04-05\n",
              "Name: offerdate, Length: 160057, dtype: datetime64[ns]"
            ]
          },
          "metadata": {},
          "execution_count": 24
        }
      ]
    },
    {
      "cell_type": "code",
      "source": [
        "%%time\n",
        "pd.to_datetime(nu['offerdate'], format = date_format, infer_datetime_format = True)"
      ],
      "metadata": {
        "id": "cikjiB6A4TKy"
      },
      "execution_count": null,
      "outputs": []
    },
    {
      "cell_type": "code",
      "source": [
        "pd.to_datetime([1, 2, 3], unit='D',\n",
        "               origin=pd.Timestamp('1960-01-01'))"
      ],
      "metadata": {
        "id": "I-JTPLXm7YiX"
      },
      "execution_count": null,
      "outputs": []
    },
    {
      "cell_type": "code",
      "source": [
        "nu['offerdate'].iloc[0]"
      ],
      "metadata": {
        "colab": {
          "base_uri": "https://localhost:8080/",
          "height": 35
        },
        "id": "mp7A0x4Y7udi",
        "outputId": "efd17f2d-e065-49bf-a5d1-082f0b6d822e"
      },
      "execution_count": null,
      "outputs": [
        {
          "output_type": "execute_result",
          "data": {
            "text/plain": [
              "'2013-04-24'"
            ],
            "application/vnd.google.colaboratory.intrinsic+json": {
              "type": "string"
            }
          },
          "metadata": {},
          "execution_count": 39
        }
      ]
    },
    {
      "cell_type": "code",
      "source": [
        "pd.to_datetime(day, unit = 'D', origin = nu['offerdate'].iloc[0])"
      ],
      "metadata": {
        "id": "jZQDTVEM7ULB"
      },
      "execution_count": null,
      "outputs": []
    },
    {
      "cell_type": "code",
      "source": [
        "day = np.linspace(30, 180, 6, endpoint = True)\n",
        "date_format = '%Y-%m-%d'"
      ],
      "metadata": {
        "id": "F5VdP7zZDJJ6"
      },
      "execution_count": null,
      "outputs": []
    },
    {
      "cell_type": "code",
      "source": [
        "pd.to_datetime(nu['offerdate'], format = date_format) - pd.to_datetime(nu['date'], format = date_format)\n"
      ],
      "metadata": {
        "colab": {
          "base_uri": "https://localhost:8080/"
        },
        "id": "GPM8f0dpDLIH",
        "outputId": "dcbcb725-a5f4-411a-c2ce-e0ef3018cb61"
      },
      "execution_count": null,
      "outputs": [
        {
          "output_type": "execute_result",
          "data": {
            "text/plain": [
              "id\n",
              "86246        418 days\n",
              "86246        418 days\n",
              "86246        414 days\n",
              "86246        413 days\n",
              "86246        406 days\n",
              "               ...   \n",
              "4847628950     1 days\n",
              "4847787712     5 days\n",
              "4847787712     5 days\n",
              "4853598737     7 days\n",
              "4853598737     7 days\n",
              "Length: 15349956, dtype: timedelta64[ns]"
            ]
          },
          "metadata": {},
          "execution_count": 86
        }
      ]
    },
    {
      "cell_type": "code",
      "source": [
        "mea = ['total', 'company', 'brand', 'category']"
      ],
      "metadata": {
        "id": "lZPzLx3RDxrg"
      },
      "execution_count": null,
      "outputs": []
    },
    {
      "cell_type": "code",
      "source": [
        "sum(nu['offer' + mea[1]] == nu[mea[1]])"
      ],
      "metadata": {
        "colab": {
          "base_uri": "https://localhost:8080/"
        },
        "id": "EbQtVtiRDysK",
        "outputId": "26826961-974d-4bc5-b09c-30e21acb892c"
      },
      "execution_count": null,
      "outputs": [
        {
          "output_type": "execute_result",
          "data": {
            "text/plain": [
              "325558"
            ]
          },
          "metadata": {},
          "execution_count": 105
        }
      ]
    },
    {
      "cell_type": "code",
      "source": [
        "%%time\n",
        "nu['total'] = 0\n",
        "nu['offertotal'] = nu['total']"
      ],
      "metadata": {
        "colab": {
          "base_uri": "https://localhost:8080/"
        },
        "id": "Hz3kDPF5HLtC",
        "outputId": "cfd6e26e-c565-422a-a3b8-1d45afc10382"
      },
      "execution_count": null,
      "outputs": [
        {
          "output_type": "stream",
          "name": "stdout",
          "text": [
            "CPU times: user 44.1 ms, sys: 268 ms, total: 312 ms\n",
            "Wall time: 321 ms\n"
          ]
        }
      ]
    },
    {
      "cell_type": "code",
      "source": [
        "%%time\n",
        "day = np.linspace(30, 180, 6, endpoint = True).astype(int).astype(str)\n",
        "date_format = '%Y-%m-%d'\n",
        "nu['daydiff'] = pd.to_datetime(nu['offerdate'], format = date_format) - pd.to_datetime(nu['date'], format = date_format)\n",
        "for i in day :\n",
        "  nu['diff_' + i] = nu['daydiff'] <= timedelta(days = int(i))\n",
        "for i in mea[1:] :\n",
        "  nu['in_' + i] = nu['offer' + i] == nu[i]"
      ],
      "metadata": {
        "colab": {
          "base_uri": "https://localhost:8080/"
        },
        "id": "7UQIuMfVC02u",
        "outputId": "d5e134c0-0249-43cb-8342-011a47f18492"
      },
      "execution_count": null,
      "outputs": [
        {
          "output_type": "stream",
          "name": "stdout",
          "text": [
            "CPU times: user 3.92 s, sys: 393 ms, total: 4.31 s\n",
            "Wall time: 4.14 s\n"
          ]
        }
      ]
    },
    {
      "cell_type": "code",
      "source": [
        "%%time\n",
        "a = nu[]"
      ],
      "metadata": {
        "colab": {
          "base_uri": "https://localhost:8080/",
          "height": 566
        },
        "id": "K_kost1fHjCe",
        "outputId": "6a06d1b6-5c31-4949-8a4d-8bdf5a3af696"
      },
      "execution_count": null,
      "outputs": [
        {
          "output_type": "error",
          "ename": "SyntaxError",
          "evalue": "ignored",
          "traceback": [
            "Traceback \u001b[0;36m(most recent call last)\u001b[0m:\n",
            "  File \u001b[1;32m\"/usr/local/lib/python3.9/dist-packages/IPython/core/interactiveshell.py\"\u001b[0m, line \u001b[1;32m3553\u001b[0m, in \u001b[1;35mrun_code\u001b[0m\n    exec(code_obj, self.user_global_ns, self.user_ns)\n",
            "  File \u001b[1;32m\"<ipython-input-131-8e81cc8922a1>\"\u001b[0m, line \u001b[1;32m1\u001b[0m, in \u001b[1;35m<cell line: 1>\u001b[0m\n    get_ipython().run_cell_magic('time', '', 'a = nu[]\\n')\n",
            "  File \u001b[1;32m\"/usr/local/lib/python3.9/dist-packages/google/colab/_shell.py\"\u001b[0m, line \u001b[1;32m333\u001b[0m, in \u001b[1;35mrun_cell_magic\u001b[0m\n    return super().run_cell_magic(magic_name, line, cell)\n",
            "  File \u001b[1;32m\"/usr/local/lib/python3.9/dist-packages/IPython/core/interactiveshell.py\"\u001b[0m, line \u001b[1;32m2473\u001b[0m, in \u001b[1;35mrun_cell_magic\u001b[0m\n    result = fn(*args, **kwargs)\n",
            "  File \u001b[1;32m\"<decorator-gen-54>\"\u001b[0m, line \u001b[1;32m2\u001b[0m, in \u001b[1;35mtime\u001b[0m\n",
            "  File \u001b[1;32m\"/usr/local/lib/python3.9/dist-packages/IPython/core/magic.py\"\u001b[0m, line \u001b[1;32m187\u001b[0m, in \u001b[1;35m<lambda>\u001b[0m\n    call = lambda f, *a, **k: f(*a, **k)\n",
            "  File \u001b[1;32m\"/usr/local/lib/python3.9/dist-packages/IPython/core/magics/execution.py\"\u001b[0m, line \u001b[1;32m1291\u001b[0m, in \u001b[1;35mtime\u001b[0m\n    expr_ast = self.shell.compile.ast_parse(expr)\n",
            "\u001b[0;36m  File \u001b[0;32m\"/usr/local/lib/python3.9/dist-packages/IPython/core/compilerop.py\"\u001b[0;36m, line \u001b[0;32m101\u001b[0;36m, in \u001b[0;35mast_parse\u001b[0;36m\u001b[0m\n\u001b[0;31m    return compile(source, filename, symbol, self.flags | PyCF_ONLY_AST, 1)\u001b[0m\n",
            "\u001b[0;36m  File \u001b[0;32m\"<unknown>\"\u001b[0;36m, line \u001b[0;32m1\u001b[0m\n\u001b[0;31m    a = nu[]\u001b[0m\n\u001b[0m           ^\u001b[0m\n\u001b[0;31mSyntaxError\u001b[0m\u001b[0;31m:\u001b[0m invalid syntax\n"
          ]
        }
      ]
    },
    {
      "cell_type": "code",
      "source": [
        "%%time\n",
        "a = nu['productmeasure'] == nu['productmeasure']"
      ],
      "metadata": {
        "colab": {
          "base_uri": "https://localhost:8080/"
        },
        "id": "sj1rLWA1GyW3",
        "outputId": "da345687-60c9-4a90-ac3d-b8869192822f"
      },
      "execution_count": null,
      "outputs": [
        {
          "output_type": "stream",
          "name": "stdout",
          "text": [
            "CPU times: user 1.08 s, sys: 5 ms, total: 1.08 s\n",
            "Wall time: 1.07 s\n"
          ]
        }
      ]
    },
    {
      "cell_type": "code",
      "source": [
        "nu.columns"
      ],
      "metadata": {
        "colab": {
          "base_uri": "https://localhost:8080/"
        },
        "id": "l6BPGlqBFFrN",
        "outputId": "341ab817-7ff0-4e10-dd21-cd17bf369fed"
      },
      "execution_count": null,
      "outputs": [
        {
          "output_type": "execute_result",
          "data": {
            "text/plain": [
              "Index(['chain', 'dept', 'category', 'company', 'brand', 'date', 'productsize',\n",
              "       'productmeasure', 'purchasequantity', 'purchaseamount', 'offerdate',\n",
              "       'offercategory', 'offercompany', 'offerbrand', 'daydiff', 'diff_30',\n",
              "       'diff_60', 'diff_90', 'diff_120', 'diff_150', 'diff_180', 'in_company',\n",
              "       'in_brand', 'in_category'],\n",
              "      dtype='object')"
            ]
          },
          "metadata": {},
          "execution_count": 107
        }
      ]
    },
    {
      "cell_type": "code",
      "source": [
        "%%time\n",
        "day = np.linspace(30, 180, 6, endpoint = True).astype(int).astype(str)\n",
        "date_format = '%Y-%m-%d'\n",
        "nu['offerdate'] = pd.to_datetime(nu['offerdate'], format = date_format, infer_datetime_format = True)\n",
        "nu['date'] = pd.to_datetime(nu['date'], format = date_format, infer_datetime_format = True)\n",
        "ddd = nu['offerdate']\n",
        "nu['daydiff'] = ddd - nu['date']\n",
        "for i in day :\n",
        "  nu['diff_' + i] = nu['daydiff'] <= timedelta(days = int(i))"
      ],
      "metadata": {
        "colab": {
          "base_uri": "https://localhost:8080/"
        },
        "id": "86e__lsl-BaE",
        "outputId": "9307f15e-aaf3-43a0-92ad-2b7ac8786a89"
      },
      "execution_count": null,
      "outputs": [
        {
          "output_type": "stream",
          "name": "stdout",
          "text": [
            "CPU times: user 3.99 s, sys: 1.47 s, total: 5.46 s\n",
            "Wall time: 5.46 s\n"
          ]
        }
      ]
    },
    {
      "cell_type": "code",
      "source": [
        "nu.columns"
      ],
      "metadata": {
        "colab": {
          "base_uri": "https://localhost:8080/"
        },
        "id": "Ye1Mf8jWmV0D",
        "outputId": "2b7089e3-0115-427b-c95e-99ed6583280a"
      },
      "execution_count": null,
      "outputs": [
        {
          "output_type": "execute_result",
          "data": {
            "text/plain": [
              "Index(['chain', 'dept', 'category', 'company', 'brand', 'date', 'productsize',\n",
              "       'productmeasure', 'purchasequantity', 'purchaseamount', 'offerdate',\n",
              "       'offercategory', 'offercompany', 'offerbrand', 'daydiff', 'diff_30.0',\n",
              "       'diff_60.0', 'diff_90.0', 'diff_120.0', 'diff_150.0', 'diff_180.0',\n",
              "       'diff_30', 'diff_60', 'diff_90', 'diff_120', 'diff_150', 'diff_180'],\n",
              "      dtype='object')"
            ]
          },
          "metadata": {},
          "execution_count": 381
        }
      ]
    },
    {
      "cell_type": "code",
      "source": [
        "range(1, 6)"
      ],
      "metadata": {
        "colab": {
          "base_uri": "https://localhost:8080/"
        },
        "id": "K-podYYil3d6",
        "outputId": "efdbc9f8-86f4-4f6f-f44e-b9dc1c4d20b2"
      },
      "execution_count": null,
      "outputs": [
        {
          "output_type": "execute_result",
          "data": {
            "text/plain": [
              "range(1, 6)"
            ]
          },
          "metadata": {},
          "execution_count": 355
        }
      ]
    },
    {
      "cell_type": "code",
      "source": [
        "%time\n",
        "of1 = offers[['offer', 'offervalue']]\n",
        "use = pd.merge(use, of1, on='offer')"
      ],
      "metadata": {
        "colab": {
          "base_uri": "https://localhost:8080/"
        },
        "id": "GEQbxr7K-IzX",
        "outputId": "c82f2cd3-3d7f-43de-97ea-bebdb56da040"
      },
      "execution_count": null,
      "outputs": [
        {
          "output_type": "stream",
          "name": "stdout",
          "text": [
            "CPU times: user 3 µs, sys: 0 ns, total: 3 µs\n",
            "Wall time: 5.48 µs\n"
          ]
        }
      ]
    },
    {
      "cell_type": "code",
      "source": [
        "%%time\n",
        "use1 = use.copy()"
      ],
      "metadata": {
        "colab": {
          "base_uri": "https://localhost:8080/"
        },
        "id": "TzgcHyVe-X-Q",
        "outputId": "35cf4c3d-8f9d-4f7a-9a79-db54dae7f5ae"
      },
      "execution_count": null,
      "outputs": [
        {
          "output_type": "stream",
          "name": "stdout",
          "text": [
            "CPU times: user 4.73 ms, sys: 0 ns, total: 4.73 ms\n",
            "Wall time: 4.76 ms\n"
          ]
        }
      ]
    },
    {
      "cell_type": "code",
      "source": [
        "# pip install pandarallel"
      ],
      "metadata": {
        "id": "0L8d2wmyA-vA"
      },
      "execution_count": null,
      "outputs": []
    },
    {
      "cell_type": "code",
      "source": [
        "# from pandarallel import pandarallel\n",
        "# pandarallel.initialize(progress_bar=True)"
      ],
      "metadata": {
        "colab": {
          "base_uri": "https://localhost:8080/"
        },
        "id": "kkVSdL1GA81t",
        "outputId": "8ab7653c-ce6c-4842-8c7a-dd7cf353284c"
      },
      "execution_count": null,
      "outputs": [
        {
          "output_type": "stream",
          "name": "stdout",
          "text": [
            "INFO: Pandarallel will run on 2 workers.\n",
            "INFO: Pandarallel will use Memory file system to transfer data between the main process and workers.\n"
          ]
        }
      ]
    },
    {
      "cell_type": "code",
      "source": [
        "%%time\n",
        "test = group['chain'].count()\n",
        "test.columns = ['id', 'buy_total_freq']\n",
        "\n",
        "test = group['purchaseamount'].sum()\n",
        "test.columns = ['id', 'buy_total_amount']"
      ],
      "metadata": {
        "colab": {
          "base_uri": "https://localhost:8080/"
        },
        "id": "EX97u31b_BSm",
        "outputId": "d3b04145-46e3-4e62-e39b-a21507bdb16e"
      },
      "execution_count": null,
      "outputs": [
        {
          "output_type": "stream",
          "name": "stdout",
          "text": [
            "CPU times: user 184 ms, sys: 55.4 ms, total: 239 ms\n",
            "Wall time: 244 ms\n"
          ]
        }
      ]
    },
    {
      "cell_type": "code",
      "source": [
        "import numpy as np"
      ],
      "metadata": {
        "id": "tbaQhC2bEpKb"
      },
      "execution_count": null,
      "outputs": []
    },
    {
      "cell_type": "code",
      "source": [
        "%%time\n",
        "test = group.agg({'purchaseamount': ['sum', 'mean'], 'daydiff': ['count']})\n",
        "# test.columns = ['buy_total_amount', 'purchasequantity']"
      ],
      "metadata": {
        "colab": {
          "base_uri": "https://localhost:8080/"
        },
        "id": "NgYWa102Df8C",
        "outputId": "164fdf56-4251-4796-abd1-c23172701b33"
      },
      "execution_count": null,
      "outputs": [
        {
          "output_type": "stream",
          "name": "stdout",
          "text": [
            "CPU times: user 317 ms, sys: 303 µs, total: 317 ms\n",
            "Wall time: 316 ms\n"
          ]
        }
      ]
    },
    {
      "cell_type": "code",
      "source": [
        "test"
      ],
      "metadata": {
        "id": "QIh837ugGM0o"
      },
      "execution_count": null,
      "outputs": []
    },
    {
      "cell_type": "code",
      "source": [
        "a = nu.groupby(['id', 'productmeasure'])['purchasequantity'].sum().reset_index('productmeasure')\n",
        "# test.columns = ['buy_total_amount', 'purchasequantity']"
      ],
      "metadata": {
        "id": "5unzMByyEiVx"
      },
      "execution_count": null,
      "outputs": []
    },
    {
      "cell_type": "code",
      "source": [
        "new2.iat[1, 1]"
      ],
      "metadata": {
        "colab": {
          "base_uri": "https://localhost:8080/"
        },
        "id": "h3urPlSChUL8",
        "outputId": "02142f48-d270-4b43-efd6-200e57d9d245"
      },
      "execution_count": null,
      "outputs": [
        {
          "output_type": "execute_result",
          "data": {
            "text/plain": [
              "580"
            ]
          },
          "metadata": {},
          "execution_count": 274
        }
      ]
    },
    {
      "cell_type": "code",
      "source": [
        "new2.iloc[(meas == 'CT').tolist(), 1]"
      ],
      "metadata": {
        "colab": {
          "base_uri": "https://localhost:8080/"
        },
        "id": "HL7MIZvthuWa",
        "outputId": "c1b88f0d-f763-4887-a7b4-e2546218411c"
      },
      "execution_count": null,
      "outputs": [
        {
          "output_type": "execute_result",
          "data": {
            "text/plain": [
              "id\n",
              "86246         6\n",
              "86252         8\n",
              "12262064      3\n",
              "12682470      4\n",
              "12996040      2\n",
              "             ..\n",
              "4806864099    7\n",
              "4806866399    1\n",
              "4813248649    4\n",
              "4813618098    2\n",
              "4847628950    1\n",
              "Name: purchasequantity, Length: 122070, dtype: int64"
            ]
          },
          "metadata": {},
          "execution_count": 277
        }
      ]
    },
    {
      "cell_type": "code",
      "source": [
        "pd.concat([new1, new2.loc[meas == 'CT'],\n",
        "           new2.loc[meas == 'OZ'],\n",
        "           new2.loc[meas == 'LT']], axis = 1)"
      ],
      "metadata": {
        "id": "WpLivZSbLfHA"
      },
      "execution_count": null,
      "outputs": []
    },
    {
      "cell_type": "code",
      "source": [
        "meas = new2['productmeasure'].values"
      ],
      "metadata": {
        "id": "avTP_YmKinjW"
      },
      "execution_count": null,
      "outputs": []
    },
    {
      "cell_type": "code",
      "source": [
        "%%time\n",
        "# meas = new2['productmeasure'].values\n",
        "aa = pd.concat([new1, new2.loc[(new2['productmeasure'].values == 'CT'), 'purchasequantity'],\n",
        "                new2.loc[(new2['productmeasure'].values == 'OZ'), 'purchasequantity'],\n",
        "                new2.loc[(new2['productmeasure'].values == 'LT'), 'purchasequantity']], axis = 1)"
      ],
      "metadata": {
        "colab": {
          "base_uri": "https://localhost:8080/",
          "height": 271
        },
        "id": "l-QKI3pwiAl3",
        "outputId": "a1b61a70-913a-4d1a-f247-1c2a149dcc47"
      },
      "execution_count": null,
      "outputs": [
        {
          "output_type": "error",
          "ename": "TypeError",
          "evalue": "ignored",
          "traceback": [
            "\u001b[0;31m---------------------------------------------------------------------------\u001b[0m",
            "\u001b[0;31mTypeError\u001b[0m                                 Traceback (most recent call last)",
            "\u001b[0;32m<timed exec>\u001b[0m in \u001b[0;36m<module>\u001b[0;34m\u001b[0m\n",
            "\u001b[0;32m/usr/local/lib/python3.9/dist-packages/pandas/util/_decorators.py\u001b[0m in \u001b[0;36mwrapper\u001b[0;34m(*args, **kwargs)\u001b[0m\n\u001b[1;32m    309\u001b[0m                     \u001b[0mstacklevel\u001b[0m\u001b[0;34m=\u001b[0m\u001b[0mstacklevel\u001b[0m\u001b[0;34m,\u001b[0m\u001b[0;34m\u001b[0m\u001b[0;34m\u001b[0m\u001b[0m\n\u001b[1;32m    310\u001b[0m                 )\n\u001b[0;32m--> 311\u001b[0;31m             \u001b[0;32mreturn\u001b[0m \u001b[0mfunc\u001b[0m\u001b[0;34m(\u001b[0m\u001b[0;34m*\u001b[0m\u001b[0margs\u001b[0m\u001b[0;34m,\u001b[0m \u001b[0;34m**\u001b[0m\u001b[0mkwargs\u001b[0m\u001b[0;34m)\u001b[0m\u001b[0;34m\u001b[0m\u001b[0;34m\u001b[0m\u001b[0m\n\u001b[0m\u001b[1;32m    312\u001b[0m \u001b[0;34m\u001b[0m\u001b[0m\n\u001b[1;32m    313\u001b[0m         \u001b[0;32mreturn\u001b[0m \u001b[0mwrapper\u001b[0m\u001b[0;34m\u001b[0m\u001b[0;34m\u001b[0m\u001b[0m\n",
            "\u001b[0;31mTypeError\u001b[0m: concat() got an unexpected keyword argument 'inplace'"
          ]
        }
      ]
    },
    {
      "cell_type": "code",
      "source": [
        "%%time\n",
        "new1 = nu.groupby(['id']).agg({'purchaseamount': ['sum', 'mean', 'count'], 'daydiff': ['min']})\n",
        "new1.columns = ['buy_total_amount', 'buy_total_amount', 'buy_total_freq', 'buy_total_daydiff']\n",
        "new2 = nu.groupby(['id', 'productmeasure'])['purchasequantity'].sum().reset_index('productmeasure')\n",
        "new = pd.concat([new1, new2.loc[(new2['productmeasure'].values == 'CT'), 'purchasequantity'],\n",
        "                new2.loc[(new2['productmeasure'].values == 'OZ'), 'purchasequantity'],\n",
        "                new2.loc[(new2['productmeasure'].values == 'LT'), 'purchasequantity']], axis = 1)"
      ],
      "metadata": {
        "colab": {
          "base_uri": "https://localhost:8080/"
        },
        "id": "7YKv8TAojYkR",
        "outputId": "234bbcba-99c6-4e43-e461-302d70da2ad2"
      },
      "execution_count": null,
      "outputs": [
        {
          "output_type": "stream",
          "name": "stdout",
          "text": [
            "CPU times: user 2.28 s, sys: 452 ms, total: 2.73 s\n",
            "Wall time: 2.71 s\n"
          ]
        }
      ]
    },
    {
      "cell_type": "code",
      "source": [
        "use1 = use.copy()"
      ],
      "metadata": {
        "id": "vQ9xp3UOkACT"
      },
      "execution_count": null,
      "outputs": []
    },
    {
      "cell_type": "code",
      "source": [
        "mea = ['total', 'company', 'brand', 'category']"
      ],
      "metadata": {
        "id": "Jc0YNQJ3F0nE"
      },
      "execution_count": null,
      "outputs": []
    },
    {
      "cell_type": "code",
      "source": [
        "%%time\n",
        "use.set_index('id', inplace = True)"
      ],
      "metadata": {
        "id": "jhgzXGo3F84g"
      },
      "execution_count": null,
      "outputs": []
    },
    {
      "cell_type": "code",
      "source": [
        "%%time\n",
        "use = use.set_index('id', inplace = True)\n",
        "new1 = nu.groupby(['id']).agg({'purchaseamount': ['sum', 'mean', 'count'], 'daydiff': ['min']})\n",
        "new2 = nu.groupby(['id', 'productmeasure'])['purchasequantity'].sum().reset_index('productmeasure')\n",
        "new = pd.concat([new1, new2.loc[(new2['productmeasure'].values == 'CT'), 'purchasequantity'],\n",
        "                new2.loc[(new2['productmeasure'].values == 'OZ'), 'purchasequantity'],\n",
        "                new2.loc[(new2['productmeasure'].values == 'LT'), 'purchasequantity']], axis = 1)\n",
        "new.columns = ['buy_total_amount', 'buy_total_avgamount', 'buy_total_freq',\n",
        "               'buy_total_daydiff', 'buy_total_CT', 'buy_total_OZ', 'buy_total_LT']\n",
        "use = use.join(new)"
      ],
      "metadata": {
        "colab": {
          "base_uri": "https://localhost:8080/"
        },
        "id": "24gDZKgD-TVR",
        "outputId": "0149a39f-bb07-4b82-8eca-a0683057e63d"
      },
      "execution_count": null,
      "outputs": [
        {
          "output_type": "stream",
          "name": "stdout",
          "text": [
            "CPU times: user 2.42 s, sys: 446 ms, total: 2.87 s\n",
            "Wall time: 2.86 s\n"
          ]
        }
      ]
    },
    {
      "cell_type": "code",
      "source": [
        "%%time\n",
        "use1 = pd.concat([use1, new], axis = 1)"
      ],
      "metadata": {
        "colab": {
          "base_uri": "https://localhost:8080/"
        },
        "id": "Xo9vaPeBkwVd",
        "outputId": "47ad6f1a-73c1-40d1-d071-e8fbd9fd3a5a"
      },
      "execution_count": null,
      "outputs": [
        {
          "output_type": "stream",
          "name": "stdout",
          "text": [
            "CPU times: user 100 ms, sys: 1.71 ms, total: 102 ms\n",
            "Wall time: 97.6 ms\n"
          ]
        }
      ]
    },
    {
      "cell_type": "code",
      "source": [
        "%%time\n",
        "use1 = pd.merge(use1, new, on = 'id')"
      ],
      "metadata": {
        "colab": {
          "base_uri": "https://localhost:8080/"
        },
        "id": "kMGL5oVIkqtG",
        "outputId": "055d7ad0-2b8e-472b-eb55-4575d234d312"
      },
      "execution_count": null,
      "outputs": [
        {
          "output_type": "stream",
          "name": "stdout",
          "text": [
            "CPU times: user 162 ms, sys: 0 ns, total: 162 ms\n",
            "Wall time: 162 ms\n"
          ]
        }
      ]
    },
    {
      "cell_type": "code",
      "source": [
        "%%time\n",
        "use1 = use1.set_index('id').join(new)"
      ],
      "metadata": {
        "colab": {
          "base_uri": "https://localhost:8080/"
        },
        "id": "1Id27-2HkqJe",
        "outputId": "91e666c8-6a2c-4852-ce54-bee4fb977b28"
      },
      "execution_count": null,
      "outputs": [
        {
          "output_type": "stream",
          "name": "stdout",
          "text": [
            "CPU times: user 62.9 ms, sys: 0 ns, total: 62.9 ms\n",
            "Wall time: 62.6 ms\n"
          ]
        }
      ]
    },
    {
      "cell_type": "code",
      "source": [
        "nu.loc[nu['date'] >= nu[daa]].shape"
      ],
      "metadata": {
        "colab": {
          "base_uri": "https://localhost:8080/"
        },
        "id": "GilfTDv-qvqo",
        "outputId": "a6ee7c35-dd20-471c-fad2-03b7228111a5"
      },
      "execution_count": null,
      "outputs": [
        {
          "output_type": "execute_result",
          "data": {
            "text/plain": [
              "(1157819, 27)"
            ]
          },
          "metadata": {},
          "execution_count": 401
        }
      ]
    },
    {
      "cell_type": "code",
      "source": [
        "nu.groupby(['id']).agg({'purchaseamount': ['sum', 'mean', 'count'], 'daydiff': ['min']})"
      ],
      "metadata": {
        "id": "4CE-Gja9rZG0"
      },
      "execution_count": null,
      "outputs": []
    },
    {
      "cell_type": "code",
      "source": [
        "new1 = nu.loc[nu['date'] >= nu[daa]].groupby('id').agg({'purchaseamount' : ['sum', 'mean', 'count']})"
      ],
      "metadata": {
        "id": "QVqwqI-crIaf"
      },
      "execution_count": null,
      "outputs": []
    },
    {
      "cell_type": "code",
      "source": [
        "new1"
      ],
      "metadata": {
        "id": "hBye6kL5rJCj"
      },
      "execution_count": null,
      "outputs": []
    },
    {
      "cell_type": "code",
      "source": [
        "i = '30'\n",
        "daa = 'diff_' + i\n",
        "\n",
        "name = 'buy_total_amount_' + i\n",
        "var = 'purchaseamount'\n",
        "\n",
        "group = nu.loc[nu['date'] >= nu[daa]].groupby('id')\n",
        "test = group[var].sum().reset_index()\n",
        "test.columns = ['id', 'ascom', name]\n",
        "use = pd.merge(use, test[test['ascom']][['id', name]], on='id', how = 'outer')"
      ],
      "metadata": {
        "id": "pQ8ZYrIfpWa3"
      },
      "execution_count": null,
      "outputs": []
    },
    {
      "cell_type": "code",
      "source": [
        "daa = 'diff_' + i\n",
        "nu['ascom'] = nu['date'] >= nu[daa]\n",
        "\n",
        "name = 'buy_total_amount_' + i\n",
        "var = 'purchaseamount'\n",
        "\n",
        "group = nu.groupby(['id', 'ascom'])\n",
        "test = group[var].sum().reset_index()\n",
        "test.columns = ['id', 'ascom', name]\n",
        "use = pd.merge(use, test[test['ascom']][['id', name]], on='id', how = 'outer')"
      ],
      "metadata": {
        "id": "jPVeaZt5pUuq"
      },
      "execution_count": null,
      "outputs": []
    },
    {
      "cell_type": "code",
      "source": [
        "nu.groupby(['id', 'productmeasure'])['purchasequantity']"
      ],
      "metadata": {
        "colab": {
          "base_uri": "https://localhost:8080/"
        },
        "id": "XFurDMWcsd2X",
        "outputId": "03a53f06-33aa-496e-9be5-74da0ae3d699"
      },
      "execution_count": null,
      "outputs": [
        {
          "output_type": "execute_result",
          "data": {
            "text/plain": [
              "<pandas.core.groupby.generic.SeriesGroupBy object at 0x7f38d4a89400>"
            ]
          },
          "metadata": {},
          "execution_count": 409
        }
      ]
    },
    {
      "cell_type": "code",
      "source": [
        "nu['date'].values[0]"
      ],
      "metadata": {
        "colab": {
          "base_uri": "https://localhost:8080/"
        },
        "id": "ZX1VxCeTwLUx",
        "outputId": "f2b0e71b-e95c-4b18-b560-1373a62b86b1"
      },
      "execution_count": null,
      "outputs": [
        {
          "output_type": "execute_result",
          "data": {
            "text/plain": [
              "numpy.datetime64('2012-03-02T00:00:00.000000000')"
            ]
          },
          "metadata": {},
          "execution_count": 443
        }
      ]
    },
    {
      "cell_type": "code",
      "source": [],
      "metadata": {
        "id": "VJnFzLFTyQuT"
      },
      "execution_count": null,
      "outputs": []
    },
    {
      "cell_type": "code",
      "source": [
        "aa.iloc[:100]"
      ],
      "metadata": {
        "colab": {
          "base_uri": "https://localhost:8080/"
        },
        "id": "Tya-gdnYyqP_",
        "outputId": "94e1aa3b-bdef-4edb-8d9c-e34d0ed33070"
      },
      "execution_count": null,
      "outputs": [
        {
          "output_type": "execute_result",
          "data": {
            "text/plain": [
              "id\n",
              "86246   1 days\n",
              "86246   1 days\n",
              "86246   1 days\n",
              "86246   1 days\n",
              "86246   1 days\n",
              "         ...  \n",
              "86246   1 days\n",
              "86246   1 days\n",
              "86246   1 days\n",
              "86246   1 days\n",
              "86246   1 days\n",
              "Name: daydiff, Length: 100, dtype: timedelta64[ns]"
            ]
          },
          "metadata": {},
          "execution_count": 457
        }
      ]
    },
    {
      "cell_type": "code",
      "source": [
        "nu.groupby('id')['date'].transform('max').head()"
      ],
      "metadata": {
        "colab": {
          "base_uri": "https://localhost:8080/"
        },
        "id": "T9bOC-dn0CsV",
        "outputId": "4577df2c-81a2-49b5-e8da-880c13924b72"
      },
      "execution_count": null,
      "outputs": [
        {
          "output_type": "execute_result",
          "data": {
            "text/plain": [
              "id\n",
              "86246   2012-03-02\n",
              "86246   2012-03-02\n",
              "86246   2012-03-02\n",
              "86246   2012-03-02\n",
              "86246   2012-03-02\n",
              "Name: date, dtype: datetime64[ns]"
            ]
          },
          "metadata": {},
          "execution_count": 8
        }
      ]
    },
    {
      "cell_type": "code",
      "source": [
        "nu['date']"
      ],
      "metadata": {
        "colab": {
          "base_uri": "https://localhost:8080/"
        },
        "id": "cyMU9mQt115K",
        "outputId": "fe94ddcd-3f10-4131-9e6b-b94aae2aff71"
      },
      "execution_count": null,
      "outputs": [
        {
          "output_type": "execute_result",
          "data": {
            "text/plain": [
              "id\n",
              "86246        2012-03-02\n",
              "86246        2012-03-02\n",
              "86246        2012-03-06\n",
              "86246        2012-03-07\n",
              "86246        2012-03-14\n",
              "                ...    \n",
              "4847628950   2013-07-23\n",
              "4847787712   2013-07-21\n",
              "4847787712   2013-07-21\n",
              "4853598737   2013-07-20\n",
              "4853598737   2013-07-20\n",
              "Name: date, Length: 15349956, dtype: datetime64[ns]"
            ]
          },
          "metadata": {},
          "execution_count": 10
        }
      ]
    },
    {
      "cell_type": "code",
      "source": [
        "newday = nu['date'].reset_index()"
      ],
      "metadata": {
        "id": "KyZEr1BX2IMn"
      },
      "execution_count": null,
      "outputs": []
    },
    {
      "cell_type": "code",
      "source": [
        "for i in day :\n",
        "  name = 'day_' + i\n",
        "   = "
      ],
      "metadata": {
        "id": "4vq4d4zR2a1M"
      },
      "execution_count": null,
      "outputs": []
    },
    {
      "cell_type": "code",
      "source": [
        "newday"
      ],
      "metadata": {
        "id": "nOOQJ2VczXWH"
      },
      "execution_count": null,
      "outputs": []
    },
    {
      "cell_type": "code",
      "source": [
        "%%time\n",
        "new1 = nu[nu['diff_180']].groupby('id')\n",
        "new2 = nu[nu['diff_180']].groupby(['id', 'productmeasure'])['purchasequantity']\n",
        "# new1 = nu.loc[nu['date'] >= nu['diff_' + i]].groupby('id').agg({'purchaseamount' : ['sum', 'mean', 'count']})\n",
        "# new2 = nu.loc[nu['date'] >= nu['diff_' + i]].groupby(['id', 'productmeasure'])['purchasequantity'].sum().reset_index('productmeasure')\n",
        "# new = pd.concat([new1, new2.loc[(new2['productmeasure'].values == 'CT'), 'purchasequantity'],\n",
        "#                 new2.loc[(new2['productmeasure'].values == 'OZ'), 'purchasequantity'],\n",
        "#                 new2.loc[(new2['productmeasure'].values == 'LT'), 'purchasequantity']], axis = 1)\n",
        "# new.columns = ['buy_total_amount_' + i, 'buy_total_avgamount_' + i, 'buy_total_freq_' + i,\n",
        "#                 'buy_total_CT_' + i, 'buy_total_OZ_' + i, 'buy_total_LT_' + i]\n",
        "# use = use.join(new)"
      ],
      "metadata": {
        "colab": {
          "base_uri": "https://localhost:8080/"
        },
        "id": "fBcCzA4Bt3_X",
        "outputId": "54d264d7-fc25-43d5-daaa-f8690ca12fdb"
      },
      "execution_count": null,
      "outputs": [
        {
          "output_type": "stream",
          "name": "stdout",
          "text": [
            "CPU times: user 1.07 s, sys: 653 ms, total: 1.72 s\n",
            "Wall time: 1.71 s\n"
          ]
        }
      ]
    },
    {
      "cell_type": "code",
      "source": [
        "aa = use[['chain', 'offer', 'market', 'offerdate', 'offervalue',\n",
        "       'buy_total_amount', 'buy_total_avgamount', 'buy_total_freq',\n",
        "       'buy_total_daydiff', 'buy_total_CT', 'buy_total_OZ', 'buy_total_LT']].copy()"
      ],
      "metadata": {
        "id": "dhklRgBa9yS6"
      },
      "execution_count": null,
      "outputs": []
    },
    {
      "cell_type": "code",
      "source": [
        "nu['diff_30']"
      ],
      "metadata": {
        "id": "wVAF0-LJ-V_T"
      },
      "execution_count": null,
      "outputs": []
    },
    {
      "cell_type": "code",
      "source": [
        "%%time\n",
        "for i in day :\n",
        "  filter = nu['diff_' + i]\n",
        "  new1 = nu[filter].groupby('id').agg({'purchaseamount' : ['sum', 'mean', 'count']})\n",
        "  new2 = nu[filter].groupby(['id', 'productmeasure'])['purchasequantity'].sum().reset_index('productmeasure')\n",
        "  new = pd.concat([new1, new2[(new2['productmeasure'].values == 'CT')]['purchasequantity'],\n",
        "                  new2[(new2['productmeasure'].values == 'OZ')]['purchasequantity'],\n",
        "                  new2[(new2['productmeasure'].values == 'LT')]['purchasequantity']], axis = 1)\n",
        "  new.columns = ['buy_total_amount_' + i, 'buy_total_avgamount_' + i, 'buy_total_freq_' + i,\n",
        "                 'buy_total_CT_' + i, 'buy_total_OZ_' + i, 'buy_total_LT_' + i]\n",
        "  use = use.join(new)"
      ],
      "metadata": {
        "colab": {
          "base_uri": "https://localhost:8080/"
        },
        "id": "GZIViO7A-lwV",
        "outputId": "d334f648-f54b-4fe4-e826-78fe297f05e8"
      },
      "execution_count": null,
      "outputs": [
        {
          "output_type": "stream",
          "name": "stdout",
          "text": [
            "CPU times: user 9.79 s, sys: 2.24 s, total: 12 s\n",
            "Wall time: 12 s\n"
          ]
        }
      ]
    },
    {
      "cell_type": "code",
      "source": [
        "nu.columns"
      ],
      "metadata": {
        "colab": {
          "base_uri": "https://localhost:8080/"
        },
        "id": "we1W-4AiFVjE",
        "outputId": "736cc99b-e8c8-4514-e361-e4d89d494042"
      },
      "execution_count": null,
      "outputs": [
        {
          "output_type": "execute_result",
          "data": {
            "text/plain": [
              "Index(['chain', 'dept', 'category', 'company', 'brand', 'date', 'productsize',\n",
              "       'productmeasure', 'purchasequantity', 'purchaseamount', 'offerdate',\n",
              "       'offercategory', 'offercompany', 'offerbrand', 'daydiff', 'diff_30',\n",
              "       'diff_60', 'diff_90', 'diff_120', 'diff_150', 'diff_180', 'in_company',\n",
              "       'in_brand', 'in_category'],\n",
              "      dtype='object')"
            ]
          },
          "metadata": {},
          "execution_count": 108
        }
      ]
    },
    {
      "cell_type": "code",
      "source": [
        "%%time\n",
        "mea = ['company', 'brand', 'category']\n",
        "for m in mea :\n",
        "  filter = nu['in_' + m]\n",
        "  new1 = nu[filter].groupby(['id']).agg({'purchaseamount': ['sum', 'mean', 'count'], 'daydiff': ['min']})\n",
        "  new2 = nu[filter].groupby(['id', 'productmeasure'])['purchasequantity'].sum().reset_index('productmeasure')\n",
        "  new = pd.concat([new1, new2.loc[(new2['productmeasure'].values == 'CT'), 'purchasequantity'],\n",
        "                  new2.loc[(new2['productmeasure'].values == 'OZ'), 'purchasequantity'],\n",
        "                  new2.loc[(new2['productmeasure'].values == 'LT'), 'purchasequantity']], axis = 1)\n",
        "  new.columns = ['buy_'+m+'_amount', 'buy_'+m+'_avgamount', 'buy_'+m+'_freq',\n",
        "                'buy_'+m+'_daydiff', 'buy_'+m+'_CT', 'buy_'+m+'_OZ', 'buy_'+m+'_LT']\n",
        "  use = use.join(new)"
      ],
      "metadata": {
        "colab": {
          "base_uri": "https://localhost:8080/"
        },
        "id": "BbXklCfhBBJI",
        "outputId": "554420a0-1c23-4224-b3c7-67502386c684"
      },
      "execution_count": null,
      "outputs": [
        {
          "output_type": "stream",
          "name": "stdout",
          "text": [
            "CPU times: user 1.96 s, sys: 117 ms, total: 2.08 s\n",
            "Wall time: 2.07 s\n"
          ]
        }
      ]
    },
    {
      "cell_type": "code",
      "source": [
        "%%time\n",
        "for i in day :\n",
        "  for m in mea :\n",
        "    filter = nu['diff_'+i] & nu['in_' + m]\n",
        "    new1 = nu[nu['diff_'+i]].groupby('id').agg({'purchaseamount' : ['sum', 'mean', 'count']})\n",
        "    new2 = nu[nu['diff_'+i]].groupby(['id', 'productmeasure'])['purchasequantity'].sum().reset_index('productmeasure')\n",
        "    new = pd.concat([new1, new2[(new2['productmeasure'].values == 'CT')]['purchasequantity'],\n",
        "                    new2[(new2['productmeasure'].values == 'OZ')]['purchasequantity'],\n",
        "                    new2[(new2['productmeasure'].values == 'LT')]['purchasequantity']], axis = 1)\n",
        "    new.columns = ['buy_'+m+'_amount_' + i, 'buy_'+m+'_avgamount_' + i, 'buy_'+m+'_freq_' + i,\n",
        "                  'buy_'+m+'_CT_' + i, 'buy_'+m+'_OZ_' + i, 'buy_'+m+'_LT_' + i]\n",
        "    use = use.join(new)"
      ],
      "metadata": {
        "id": "GS99ZBYMJ8eg"
      },
      "execution_count": null,
      "outputs": []
    },
    {
      "cell_type": "code",
      "source": [
        "%%time\n",
        "for i in day :\n",
        "  filter = nu['diff_' + i]\n",
        "  new1 = nu[filter].groupby('id').agg({'purchaseamount' : ['sum', 'mean', 'count']})\n",
        "  new2 = nu[filter].groupby(['id', 'productmeasure'])['purchasequantity'].sum().reset_index('productmeasure')\n",
        "  new = pd.concat([new1, new2[(new2['productmeasure'].values == 'CT')]['purchasequantity'],\n",
        "                  new2[(new2['productmeasure'].values == 'OZ')]['purchasequantity'],\n",
        "                  new2[(new2['productmeasure'].values == 'LT')]['purchasequantity']], axis = 1)\n",
        "  new.columns = ['buy_total_amount_' + i, 'buy_total_avgamount_' + i, 'buy_total_freq_' + i,\n",
        "                 'buy_total_CT_' + i, 'buy_total_OZ_' + i, 'buy_total_LT_' + i]"
      ],
      "metadata": {
        "colab": {
          "base_uri": "https://localhost:8080/"
        },
        "id": "7pNsdOGoL5SM",
        "outputId": "cb179d93-cffa-48bd-fbaa-83c1240edf53"
      },
      "execution_count": null,
      "outputs": [
        {
          "output_type": "stream",
          "name": "stdout",
          "text": [
            "CPU times: user 10 s, sys: 1.37 s, total: 11.4 s\n",
            "Wall time: 11.4 s\n"
          ]
        }
      ]
    },
    {
      "cell_type": "code",
      "source": [
        "it = np.repeat(range(3), 2)+1\n",
        "it[:3]\n",
        "it[3:]"
      ],
      "metadata": {
        "colab": {
          "base_uri": "https://localhost:8080/"
        },
        "id": "XOQuJDnlNMJb",
        "outputId": "a743cc53-0bb6-4dea-e9f8-30423bc93a6f"
      },
      "execution_count": null,
      "outputs": [
        {
          "output_type": "execute_result",
          "data": {
            "text/plain": [
              "array([2, 3, 3])"
            ]
          },
          "metadata": {},
          "execution_count": 169
        }
      ]
    },
    {
      "cell_type": "code",
      "source": [
        "%%time\n",
        "use['not_buy_'+m] = True!=(use['buy_'+m+'_freq']>0)"
      ],
      "metadata": {
        "colab": {
          "base_uri": "https://localhost:8080/"
        },
        "id": "vyJGVGzxRFoB",
        "outputId": "50083ffd-e252-40af-d50f-c1958119a667"
      },
      "execution_count": null,
      "outputs": [
        {
          "output_type": "stream",
          "name": "stdout",
          "text": [
            "CPU times: user 2.13 ms, sys: 0 ns, total: 2.13 ms\n",
            "Wall time: 2.14 ms\n"
          ]
        }
      ]
    },
    {
      "cell_type": "code",
      "source": [],
      "metadata": {
        "id": "lTAF_yirQYUc"
      },
      "execution_count": null,
      "outputs": []
    },
    {
      "cell_type": "code",
      "source": [
        "%%time\n",
        "for m in mea :\n",
        "  use['not_buy_'+m] = True!=(use['buy_'+m+'_freq']>0) \n",
        "  \n",
        "it = np.repeat(range(3), 2)\n",
        "for m1, m2 in zip(it[:3], it[3:]) :\n",
        "  use['not_buy_'+mea[m1]+'_'+mea[m2]] = (use['not_buy_'+mea[m1]] & use['not_buy_'+mea[m2]])"
      ],
      "metadata": {
        "colab": {
          "base_uri": "https://localhost:8080/"
        },
        "id": "l4E-f5mJM8CF",
        "outputId": "b39ab4cd-6410-4355-9860-e2f3efee4032"
      },
      "execution_count": null,
      "outputs": [
        {
          "output_type": "stream",
          "name": "stdout",
          "text": [
            "CPU times: user 9.93 ms, sys: 1.02 ms, total: 11 ms\n",
            "Wall time: 16.4 ms\n"
          ]
        }
      ]
    },
    {
      "cell_type": "code",
      "source": [
        "use[dayVar].fillna(timedelta(0)).astype('timedelta64[D]').astype(int)"
      ],
      "metadata": {
        "id": "kGexjBN9T_HU"
      },
      "execution_count": null,
      "outputs": []
    },
    {
      "cell_type": "code",
      "source": [
        "%%time\n",
        "dayVar = ['buy_company_daydiff', 'buy_brand_daydiff', 'buy_category_daydiff', 'buy_total_daydiff']\n",
        "use[dayVar] = use[dayVar].fillna(timedelta(0)).astype('timedelta64[D]').astype(int)\n",
        "use = use.fillna(0)"
      ],
      "metadata": {
        "colab": {
          "base_uri": "https://localhost:8080/"
        },
        "id": "Nq1Ht1cHSLzl",
        "outputId": "5c5e0eb1-77d6-4a0b-ebfe-d756c9f9fd2e"
      },
      "execution_count": null,
      "outputs": [
        {
          "output_type": "stream",
          "name": "stdout",
          "text": [
            "CPU times: user 334 ms, sys: 83.3 ms, total: 418 ms\n",
            "Wall time: 418 ms\n"
          ]
        }
      ]
    },
    {
      "cell_type": "code",
      "source": [
        "%%time\n",
        "# for i in use[dayVar] :\n",
        "#   use[i] = use[i].astype('str').apply(lambda x:x[:-5]).astype('int32')\n",
        "# transform bool type into int\n",
        "for i in use.columns :\n",
        "  if(use[i].dtypes == 'int') :\n",
        "    use[i] = use[i].apply(bool)"
      ],
      "metadata": {
        "colab": {
          "base_uri": "https://localhost:8080/"
        },
        "id": "8hlcfICdQHBF",
        "outputId": "96d961cd-e0c8-4cb3-bbb0-c0a3160c4148"
      },
      "execution_count": null,
      "outputs": [
        {
          "output_type": "stream",
          "name": "stdout",
          "text": [
            "CPU times: user 540 ms, sys: 0 ns, total: 540 ms\n",
            "Wall time: 544 ms\n"
          ]
        }
      ]
    },
    {
      "cell_type": "code",
      "source": [
        "%%time\n",
        "use[use.columns[use.dtypes == 'bool']] = use[use.columns[use.dtypes == 'bool']].astype(int)"
      ],
      "metadata": {
        "id": "m2AzywW_VXW5"
      },
      "execution_count": null,
      "outputs": []
    },
    {
      "cell_type": "code",
      "source": [
        "for i in use.columns :\n",
        "  if(use[i].dtypes == 'bool') :\n",
        "    use[i] = use[i].apply(int)"
      ],
      "metadata": {
        "id": "MylXnUOMVT6a"
      },
      "execution_count": null,
      "outputs": []
    },
    {
      "cell_type": "code",
      "source": [
        "# generate not buy index\n",
        "nu['ascom'] = (nu['company'] == nu['offercompany']) & (nu['brand'] == nu['offerbrand']) & (nu['category'] == nu['offercategory'])\n",
        "group = nu.groupby(['id', 'ascom'])\n",
        "\n",
        "name1 = 'buy_company_brand_category'\n",
        "name = name1 + '_freq'\n",
        "\n",
        "test = group['chain'].count().reset_index()\n",
        "test.columns = ['id', 'ascom', name]\n",
        "use = pd.merge(use, test[test['ascom']][['id', name]], on='id', how = 'outer')\n",
        "new = pd.DataFrame((use[name] > 0) != True)\n",
        "new.columns = ['not_' + name1]\n",
        "use = pd.concat([use, new], axis = 1)\n",
        "\n",
        "\n",
        "\n",
        "nu['ascom'] = (nu['company'] == nu['offercompany']) & (nu['brand'] == nu['offerbrand'])\n",
        "group = nu.groupby(['id', 'ascom'])\n",
        "\n",
        "name1 = 'buy_company_brand'\n",
        "name = name1 + '_freq'\n",
        "\n",
        "test = group['chain'].count().reset_index()\n",
        "test.columns = ['id', 'ascom', name]\n",
        "use = pd.merge(use, test[test['ascom']][['id', name]], on='id', how = 'outer')\n",
        "new = pd.DataFrame((use[name] > 0) != True)\n",
        "new.columns = ['not_' + name1]\n",
        "use = pd.concat([use, new], axis = 1)\n",
        "\n",
        "\n",
        "\n",
        "nu['ascom'] = (nu['company'] == nu['offercompany']) & (nu['category'] == nu['offercategory'])\n",
        "group = nu.groupby(['id', 'ascom'])\n",
        "\n",
        "name1 = 'buy_company_category'\n",
        "name = name1 + '_freq'\n",
        "\n",
        "test = group['chain'].count().reset_index()\n",
        "test.columns = ['id', 'ascom', name]\n",
        "use = pd.merge(use, test[test['ascom']][['id', name]], on='id', how = 'outer')\n",
        "new = pd.DataFrame((use[name] > 0) != True)\n",
        "new.columns = ['not_' + name1]\n",
        "use = pd.concat([use, new], axis = 1)\n",
        "\n",
        "\n",
        "\n",
        "nu['ascom'] = (nu['brand'] == nu['offerbrand']) & (nu['category'] == nu['offercategory'])\n",
        "group = nu.groupby(['id', 'ascom'])\n",
        "\n",
        "name1 = 'buy_brand_category'\n",
        "name = name1 + '_freq'\n",
        "\n",
        "test = group['chain'].count().reset_index()\n",
        "test.columns = ['id', 'ascom', name]\n",
        "use = pd.merge(use, test[test['ascom']][['id', name]], on='id', how = 'outer')\n",
        "new = pd.DataFrame((use[name] > 0) != True)\n",
        "new.columns = ['not_' + name1]\n",
        "use = pd.concat([use, new], axis = 1)\n",
        "\n",
        "del new\n",
        "gc.collect()\n",
        "\n",
        "new1 = pd.DataFrame((use['buy_company_freq'] > 0) != True)\n",
        "new1.columns = ['not_buy_company']\n",
        "new2 = pd.DataFrame((use['buy_brand_freq'] > 0) != True)\n",
        "new2.columns = ['not_buy_brand']\n",
        "new3 = pd.DataFrame((use['buy_category_freq'] > 0) != True)\n",
        "new3.columns = ['not_buy_category']\n",
        "use = pd.concat([use, new1, new2, new3], axis = 1)\n",
        "\n",
        "del new1, new2, new3\n",
        "gc.collect()\n",
        "\n",
        "# handle na problem\n",
        "dayVar = ['buy_company_daydiff', 'buy_brand_daydiff', 'buy_category_daydiff', 'buy_total_daydiff']\n",
        "use1 = use[dayVar]\n",
        "use.drop(columns = dayVar, inplace = True)\n",
        "use = use.fillna(0)\n",
        "use1 = use1.fillna(timedelta(0))\n",
        "use = pd.concat([use, use1], axis = 1)\n",
        "\n",
        "del use1\n",
        "gc.collect()\n",
        "\n",
        "# te = time.time()\n",
        "# print('Inner -', str(tidx) + ' of ' + str(tk) + '(handle na problem) -> time elapsed: ' + str(round(te-ts, 2)) + ' seconds')\n",
        "# tk+=1\n",
        "\n",
        "# transform date type into int\n",
        "for i in use[dayVar] :\n",
        "  use[i] = use[i].astype('str').apply(lambda x:x[:-5]).astype('int32')\n",
        "\n",
        "# te = time.time()\n",
        "# print('Inner -', str(tidx) + ' of ' + str(tk) + '(transform date type) -> time elapsed: ' + str(round(te-ts, 2)) + ' seconds')\n",
        "# tk+=1\n",
        "\n",
        "# transform bool type into int\n",
        "for i in use.columns :\n",
        "  if(use[i].dtypes == 'bool') :\n",
        "    use[i] = use[i].apply(int)"
      ],
      "metadata": {
        "id": "5McxIjlSL4OR"
      },
      "execution_count": null,
      "outputs": []
    },
    {
      "cell_type": "markdown",
      "source": [],
      "metadata": {
        "id": "rerevr6--7cb"
      }
    },
    {
      "cell_type": "code",
      "source": [
        "# import useful package\n",
        "from datetime import timedelta\n",
        "from itertools import cycle\n",
        "import pandas as pd\n",
        "import numpy as np\n",
        "import time\n",
        "import gc\n",
        "ts = time.time()\n",
        "# tk = 1\n",
        "\n",
        "# get all data & delete those not in transactions\n",
        "train = trainhistory.drop(columns = ['repeater', 'repeattrips'])\n",
        "data = pd.concat([train, testhistory], axis=0, ignore_index=True)\n",
        "use = data[data['id'].isin(transactions['id'])] # (310665, )\n",
        "\n",
        "del trainhistory, train, testhistory\n",
        "gc.collect()\n",
        "\n",
        "# te = time.time()\n",
        "# print('Inner -', str(tidx) + ' of ' + str(tk) + '(get all data) -> time elapsed: ' + str(round(te-ts, 2)) + ' seconds')\n",
        "# tk+=1\n",
        "\n",
        "# put offer information into transactions\n",
        "of = offers[['offer', 'category', 'company', 'offervalue', 'brand']]\n",
        "usf = pd.merge(use, of, on='offer')\n",
        "usf.columns = ['id', 'chain', 'offer', 'market', 'offerdate', 'offercategory', 'offercompany',\n",
        "      'offervalue', 'offerbrand']\n",
        "tu = usf[['id', 'offer', 'offerdate', 'offercategory', 'offercompany', 'offerbrand']]\n",
        "nu = pd.merge(tu, transactions, on='id')\n",
        "\n",
        "del tu, usf, of, transactions\n",
        "gc.collect()\n",
        "\n",
        "# te = time.time()\n",
        "# print('Inner -', str(tidx) + ' of ' + str(tk) + '(put offer information) -> time elapsed: ' + str(round(te-ts, 2)) + ' seconds')\n",
        "# tk+=1\n",
        "\n",
        "# generate time index\n",
        "date_format = '%Y-%m-%d'\n",
        "nu['offerdate'] = pd.to_datetime(nu['offerdate'], format = date_format)\n",
        "nu['date'] = pd.to_datetime(nu['date'], format = date_format)\n",
        "nu['daydiff'] = nu['offerdate'] - nu['date']\n",
        "nu['diff_180'] = nu['offerdate'] - timedelta(days = 180)\n",
        "nu['diff_150'] = nu['offerdate'] - timedelta(days = 150)\n",
        "nu['diff_120'] = nu['offerdate'] - timedelta(days = 120)\n",
        "nu['diff_90'] = nu['offerdate'] - timedelta(days = 90)\n",
        "nu['diff_60'] = nu['offerdate'] - timedelta(days = 60)\n",
        "nu['diff_30'] = nu['offerdate'] - timedelta(days = 30)\n",
        "\n",
        "# te = time.time()\n",
        "# print('Inner -', str(tidx) + ' of ' + str(tk) + '(generate time index) -> time elapsed: ' + str(round(te-ts, 2)) + ' seconds')\n",
        "# tk+=1\n",
        "\n",
        "# put offervalue\n",
        "of1 = offers[['offer', 'offervalue']]\n",
        "use = pd.merge(use, of1, on='offer')\n",
        "\n",
        "# te = time.time()\n",
        "# print('Inner -', str(tidx) + ' of ' + str(tk) + '(put offervalue) -> time elapsed: ' + str(round(te-ts, 2)) + ' seconds')\n",
        "# tk+=1\n",
        "\n",
        "# generate total\n",
        "group = nu.groupby(['id'])\n",
        "\n",
        "test = group['chain'].count().reset_index()\n",
        "test.columns = ['id', 'buy_total_freq']\n",
        "use = pd.merge(use, test, on='id')\n",
        "\n",
        "# te = time.time()\n",
        "# print('Inner -', str(tidx) + ' of ' + str(tk) + '(generate total freq) -> time elapsed: ' + str(round(te-ts, 2)) + ' seconds')\n",
        "# tk+=1\n",
        "\n",
        "test = group['purchaseamount'].sum().reset_index()\n",
        "test.columns = ['id', 'buy_total_amount']\n",
        "use = pd.merge(use, test, on='id')\n",
        "\n",
        "# te = time.time()\n",
        "# print('Inner -', str(tidx) + ' of ' + str(tk) + '(generate total amount) -> time elapsed: ' + str(round(te-ts, 2)) + ' seconds')\n",
        "# tk+=1\n",
        "\n",
        "test = group['purchaseamount'].mean().reset_index()\n",
        "test.columns = ['id', 'buy_total_avgamount']\n",
        "use = pd.merge(use, test, on='id')\n",
        "\n",
        "# te = time.time()\n",
        "# print('Inner -', str(tidx) + ' of ' + str(tk) + '(generate total avg) -> time elapsed: ' + str(round(te-ts, 2)) + ' seconds')\n",
        "# tk+=1\n",
        "\n",
        "test = group['purchasequantity'].sum().reset_index()\n",
        "test.columns = ['id', 'buy_total_quantity']\n",
        "use = pd.merge(use, test, on='id')\n",
        "\n",
        "# te = time.time()\n",
        "# print('Inner -', str(tidx) + ' of ' + str(tk) + '(generate total quan) -> time elapsed: ' + str(round(te-ts, 2)) + ' seconds')\n",
        "# tk+=1\n",
        "\n",
        "test = group['daydiff'].min().reset_index()\n",
        "test.columns = ['id', 'buy_total_daydiff']\n",
        "use = pd.merge(use, test, on='id')\n",
        "\n",
        "# te = time.time()\n",
        "# print('Inner -', str(tidx) + ' of ' + str(tk) + '(generate total) -> time elapsed: ' + str(round(te-ts, 2)) + ' seconds')\n",
        "# tk+=1\n",
        "\n",
        "\n",
        "day = np.linspace(30, 180, 6, endpoint=True).astype(int).astype(str)\n",
        "\n",
        "for i in day :\n",
        "  daa = 'diff_' + i\n",
        "  nu['ascom'] = nu['date'] >= nu[daa]\n",
        "\n",
        "  name = 'buy_total_amount_' + i\n",
        "  var = 'purchaseamount'\n",
        "\n",
        "  group = nu.groupby(['id', 'ascom'])\n",
        "  test = group[var].sum().reset_index()\n",
        "  test.columns = ['id', 'ascom', name]\n",
        "  use = pd.merge(use, test[test['ascom']][['id', name]], on='id', how = 'outer')\n",
        "\n",
        "  # te = time.time()\n",
        "  # print('Inner -', str(tidx) + ' of ' + str(tk) + '(generate day amount) -> time elapsed: ' + str(round(te-ts, 2)) + ' seconds')\n",
        "  # tk+=1\n",
        "\n",
        "  name = 'buy_total_quantity_' + i\n",
        "  var = 'purchasequantity'\n",
        "\n",
        "  group = nu.groupby(['id', 'ascom'])\n",
        "  test = group[var].sum().reset_index()\n",
        "  test.columns = ['id', 'ascom', name]\n",
        "  use = pd.merge(use, test[test['ascom']][['id', name]], on='id', how = 'outer')\n",
        "\n",
        "  # te = time.time()\n",
        "  # print('Inner -', str(tidx) + ' of ' + str(tk) + '(generate day quan) -> time elapsed: ' + str(round(te-ts, 2)) + ' seconds')\n",
        "  # tk+=1\n",
        "\n",
        "  name = 'buy_total_freq_' + i\n",
        "  var = 'purchaseamount'\n",
        "\n",
        "  group = nu.groupby(['id', 'ascom'])\n",
        "  test = group['chain'].count().reset_index()\n",
        "  test.columns = ['id', 'ascom', name]\n",
        "  use = pd.merge(use, test[test['ascom']][['id', name]], on='id', how = 'outer')\n",
        "\n",
        "  # te = time.time()\n",
        "  # print('Inner -', str(tidx) + ' of ' + str(tk) + '(generate day) -> time elapsed: ' + str(round(te-ts, 2)) + ' seconds')\n",
        "  # tk+=1\n",
        "\n",
        "# generate company & brand & category\n",
        "mea = ['company', 'brand', 'category']\n",
        "day = np.repeat(np.linspace(30, 180, 6, endpoint=True), 3).astype(int).astype(str)\n",
        "\n",
        "for i in mea :\n",
        "  nu['ascom'] = nu[i] == nu['offer' + i]\n",
        "  group = nu.groupby(['id', 'ascom'])\n",
        "\n",
        "  test = group['chain'].count().reset_index()\n",
        "  test.columns = ['id', 'ascom', 'buy_'+i+'_freq']\n",
        "  use = pd.merge(use, test[test['ascom']][['id', 'buy_'+i+'_freq']], on='id', how = 'outer')\n",
        "\n",
        "  # te = time.time()\n",
        "  # print('Inner -', str(tidx) + ' of ' + str(tk) + '(generate other freq) -> time elapsed: ' + str(round(te-ts, 2)) + ' seconds')\n",
        "  # tk+=1\n",
        "\n",
        "  test = group['purchaseamount'].sum().reset_index()\n",
        "  test.columns = ['id', 'ascom', 'buy_'+i+'_amount']\n",
        "  use = pd.merge(use, test[test['ascom']][['id', 'buy_'+i+'_amount']], on='id', how = 'outer')\n",
        "\n",
        "  # te = time.time()\n",
        "  # print('Inner -', str(tidx) + ' of ' + str(tk) + '(generate other amount) -> time elapsed: ' + str(round(te-ts, 2)) + ' seconds')\n",
        "  # tk+=1\n",
        "\n",
        "  test = group['purchaseamount'].mean().reset_index()\n",
        "  test.columns = ['id', 'ascom', 'buy_'+i+'_avgamount']\n",
        "  use = pd.merge(use, test[test['ascom']][['id', 'buy_'+i+'_avgamount']], on='id', how = 'outer')\n",
        "\n",
        "  # te = time.time()\n",
        "  # print('Inner -', str(tidx) + ' of ' + str(tk) + '(generate other avg) -> time elapsed: ' + str(round(te-ts, 2)) + ' seconds')\n",
        "  # tk+=1\n",
        "\n",
        "  test = group['purchasequantity'].sum().reset_index()\n",
        "  test.columns = ['id', 'ascom', 'buy_'+i+'_quantity']\n",
        "  use = pd.merge(use, test[test['ascom']][['id', 'buy_'+i+'_quantity']], on='id', how = 'outer')\n",
        "\n",
        "  # te = time.time()\n",
        "  # print('Inner -', str(tidx) + ' of ' + str(tk) + '(generate other quan) -> time elapsed: ' + str(round(te-ts, 2)) + ' seconds')\n",
        "  # tk+=1\n",
        "\n",
        "  test = group['daydiff'].min().reset_index()\n",
        "  test.columns = ['id', 'ascom', 'buy_'+i+'_daydiff']\n",
        "  use = pd.merge(use, test[test['ascom']][['id', 'buy_'+i+'_daydiff']], on='id', how = 'outer')\n",
        "\n",
        "  # te = time.time()\n",
        "  # print('Inner -', str(tidx) + ' of ' + str(tk) + '(generate other) -> time elapsed: ' + str(round(te-ts, 2)) + ' seconds')\n",
        "  # tk+=1\n",
        "\n",
        "\n",
        "for i, j in zip(day, cycle(mea)) :\n",
        "  daa = 'diff_' + i\n",
        "  nu['ascom'] = ((nu['date'] >= nu[daa]) & (nu[j] == nu['offer' + j]))\n",
        "\n",
        "  name = 'buy_'+j+'_amount_' + i\n",
        "  var = 'purchaseamount'\n",
        "\n",
        "  group = nu.groupby(['id', 'ascom'])\n",
        "  test = group[var].sum().reset_index()\n",
        "  test.columns = ['id', 'ascom', name]\n",
        "  use = pd.merge(use, test[test['ascom']][['id', name]], on='id', how = 'outer')\n",
        "\n",
        "  # te = time.time()\n",
        "  # print('Inner -', str(tidx) + ' of ' + str(tk) + '(generate other day amount) -> time elapsed: ' + str(round(te-ts, 2)) + ' seconds')\n",
        "  # tk+=1\n",
        "\n",
        "  name = 'buy_'+j+'_quantity_' + i\n",
        "  var = 'purchasequantity'\n",
        "\n",
        "  group = nu.groupby(['id', 'ascom'])\n",
        "  test = group[var].sum().reset_index()\n",
        "  test.columns = ['id', 'ascom', name]\n",
        "  use = pd.merge(use, test[test['ascom']][['id', name]], on='id', how = 'outer')\n",
        "\n",
        "  # te = time.time()\n",
        "  # print('Inner -', str(tidx) + ' of ' + str(tk) + '(generate other day quan) -> time elapsed: ' + str(round(te-ts, 2)) + ' seconds')\n",
        "  # tk+=1\n",
        "\n",
        "  name = 'buy_'+j+'_freq_' + i\n",
        "  var = 'purchaseamount'\n",
        "\n",
        "  group = nu.groupby(['id', 'ascom'])\n",
        "  test = group['chain'].count().reset_index()\n",
        "  test.columns = ['id', 'ascom', name]\n",
        "  use = pd.merge(use, test[test['ascom']][['id', name]], on='id', how = 'outer')\n",
        "\n",
        "  # te = time.time()\n",
        "  # # print('Inner -', str(tidx) + ' of ' + str(tk) + '(generate other day) -> time elapsed: ' + str(round(te-ts, 2)) + ' seconds')\n",
        "  # # tk+=1\n",
        "\n",
        "# generate not buy index\n",
        "nu['ascom'] = (nu['company'] == nu['offercompany']) & (nu['brand'] == nu['offerbrand']) & (nu['category'] == nu['offercategory'])\n",
        "group = nu.groupby(['id', 'ascom'])\n",
        "\n",
        "name1 = 'buy_company_brand_category'\n",
        "name = name1 + '_freq'\n",
        "\n",
        "test = group['chain'].count().reset_index()\n",
        "test.columns = ['id', 'ascom', name]\n",
        "use = pd.merge(use, test[test['ascom']][['id', name]], on='id', how = 'outer')\n",
        "new = pd.DataFrame((use[name] > 0) != True)\n",
        "new.columns = ['not_' + name1]\n",
        "use = pd.concat([use, new], axis = 1)\n",
        "\n",
        "\n",
        "\n",
        "nu['ascom'] = (nu['company'] == nu['offercompany']) & (nu['brand'] == nu['offerbrand'])\n",
        "group = nu.groupby(['id', 'ascom'])\n",
        "\n",
        "name1 = 'buy_company_brand'\n",
        "name = name1 + '_freq'\n",
        "\n",
        "test = group['chain'].count().reset_index()\n",
        "test.columns = ['id', 'ascom', name]\n",
        "use = pd.merge(use, test[test['ascom']][['id', name]], on='id', how = 'outer')\n",
        "new = pd.DataFrame((use[name] > 0) != True)\n",
        "new.columns = ['not_' + name1]\n",
        "use = pd.concat([use, new], axis = 1)\n",
        "\n",
        "\n",
        "\n",
        "nu['ascom'] = (nu['company'] == nu['offercompany']) & (nu['category'] == nu['offercategory'])\n",
        "group = nu.groupby(['id', 'ascom'])\n",
        "\n",
        "name1 = 'buy_company_category'\n",
        "name = name1 + '_freq'\n",
        "\n",
        "test = group['chain'].count().reset_index()\n",
        "test.columns = ['id', 'ascom', name]\n",
        "use = pd.merge(use, test[test['ascom']][['id', name]], on='id', how = 'outer')\n",
        "new = pd.DataFrame((use[name] > 0) != True)\n",
        "new.columns = ['not_' + name1]\n",
        "use = pd.concat([use, new], axis = 1)\n",
        "\n",
        "\n",
        "\n",
        "nu['ascom'] = (nu['brand'] == nu['offerbrand']) & (nu['category'] == nu['offercategory'])\n",
        "group = nu.groupby(['id', 'ascom'])\n",
        "\n",
        "name1 = 'buy_brand_category'\n",
        "name = name1 + '_freq'\n",
        "\n",
        "test = group['chain'].count().reset_index()\n",
        "test.columns = ['id', 'ascom', name]\n",
        "use = pd.merge(use, test[test['ascom']][['id', name]], on='id', how = 'outer')\n",
        "new = pd.DataFrame((use[name] > 0) != True)\n",
        "new.columns = ['not_' + name1]\n",
        "use = pd.concat([use, new], axis = 1)\n",
        "\n",
        "del new\n",
        "gc.collect()\n",
        "\n",
        "new1 = pd.DataFrame((use['buy_company_freq'] > 0) != True)\n",
        "new1.columns = ['not_buy_company']\n",
        "new2 = pd.DataFrame((use['buy_brand_freq'] > 0) != True)\n",
        "new2.columns = ['not_buy_brand']\n",
        "new3 = pd.DataFrame((use['buy_category_freq'] > 0) != True)\n",
        "new3.columns = ['not_buy_category']\n",
        "use = pd.concat([use, new1, new2, new3], axis = 1)\n",
        "\n",
        "del new1, new2, new3\n",
        "gc.collect()\n",
        "\n",
        "# handle na problem\n",
        "dayVar = ['buy_company_daydiff', 'buy_brand_daydiff', 'buy_category_daydiff', 'buy_total_daydiff']\n",
        "use1 = use[dayVar]\n",
        "use.drop(columns = dayVar, inplace = True)\n",
        "use = use.fillna(0)\n",
        "use1 = use1.fillna(timedelta(0))\n",
        "use = pd.concat([use, use1], axis = 1)\n",
        "\n",
        "del use1\n",
        "gc.collect()\n",
        "\n",
        "# te = time.time()\n",
        "# print('Inner -', str(tidx) + ' of ' + str(tk) + '(handle na problem) -> time elapsed: ' + str(round(te-ts, 2)) + ' seconds')\n",
        "# tk+=1\n",
        "\n",
        "# transform date type into int\n",
        "for i in use[dayVar] :\n",
        "  use[i] = use[i].astype('str').apply(lambda x:x[:-5]).astype('int32')\n",
        "\n",
        "# te = time.time()\n",
        "# print('Inner -', str(tidx) + ' of ' + str(tk) + '(transform date type) -> time elapsed: ' + str(round(te-ts, 2)) + ' seconds')\n",
        "# tk+=1\n",
        "\n",
        "# transform bool type into int\n",
        "for i in use.columns :\n",
        "  if(use[i].dtypes == 'bool') :\n",
        "    use[i] = use[i].apply(int)\n",
        "\n",
        "te = time.time()\n",
        "print('Inner -', str(tidx) + ' (generate feature) -> time elapsed: ' + str(round(te-ts, 2)) + ' seconds')\n",
        "\n",
        "return use"
      ],
      "metadata": {
        "id": "txE8QhLdw7r0"
      },
      "execution_count": null,
      "outputs": []
    },
    {
      "cell_type": "code",
      "source": [
        "target_dates = pd.date_range(end=now, periods=100, freq=\"7D\")\n",
        "full_dates = pd.date_range(start, now).tolist()\n",
        "org_dates = df.date.tolist()\n",
        "\n",
        "last_date = None\n",
        "for d in full_dates:\n",
        " if d in org_dates:\n",
        "  date_map[d] = d\n",
        "  last_date = d\n",
        " elif last_date is not None:\n",
        "  date_map[d] = last_date\n",
        " else:\n",
        "  continue\n",
        "  \n",
        "#### main change is from here #####\n",
        "date_map_list = []\n",
        "for td in target_dates:\n",
        " date_map_list.append({\"target_date\":td, \"org_date\":date_map[td]}) \n",
        "date_map_df = pd.DataFrame(date_map_list)\n",
        "new_df = date_map_df.merge(df, left_on=[\"org_date\"], right_on=[\"date\"], how=\"inner\")"
      ],
      "metadata": {
        "id": "0pw0YVO5EQfD"
      },
      "execution_count": null,
      "outputs": []
    }
  ]
}