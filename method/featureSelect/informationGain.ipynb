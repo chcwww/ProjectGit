{
  "nbformat": 4,
  "nbformat_minor": 0,
  "metadata": {
    "colab": {
      "provenance": [],
      "authorship_tag": "ABX9TyMN5wnlfSTT3rZhWNhz/pn9",
      "include_colab_link": true
    },
    "kernelspec": {
      "name": "python3",
      "display_name": "Python 3"
    },
    "language_info": {
      "name": "python"
    }
  },
  "cells": [
    {
      "cell_type": "markdown",
      "metadata": {
        "id": "view-in-github",
        "colab_type": "text"
      },
      "source": [
        "<a href=\"https://colab.research.google.com/github/chcwww/ProjectGit/blob/main/method/informationGain.ipynb\" target=\"_parent\"><img src=\"https://colab.research.google.com/assets/colab-badge.svg\" alt=\"Open In Colab\"/></a>"
      ]
    },
    {
      "cell_type": "code",
      "source": [
        "from google.colab import drive\n",
        "drive.mount('/content/drive')"
      ],
      "metadata": {
        "id": "lmsVpHbp8F1Z"
      },
      "execution_count": null,
      "outputs": []
    },
    {
      "cell_type": "code",
      "execution_count": null,
      "metadata": {
        "id": "eahkS8CP7_Vs"
      },
      "outputs": [],
      "source": [
        "import pandas as pd \n",
        "\n",
        "\n",
        "dirThis = '/content/drive/MyDrive/1經濟學/專題/featureNew/'\n",
        "\n",
        "# testHistory = pd.read_csv(dirThis + 'testHistory.csv')\n",
        "\n",
        "a = pd.read_csv(dirThis + 'trainEncode.csv')\n",
        "b = pd.read_csv(dirThis + 'targetEncode.csv')\n",
        "train = a.drop(columns = ['Unnamed: 0', 'id', 'chain', 'market', 'offerdate'])\n",
        "target = b['repeater']\n",
        "\n",
        "c = pd.read_csv(dirThis + 'trainMTDF.csv')\n",
        "targetMt = c['repeater']\n",
        "trainMt = c.drop(columns = ['Unnamed: 0', 'id', 'chain', 'market', 'repeater'])\n",
        "# test = pd.read_csv(dirThis + 'testEncode.csv')"
      ]
    },
    {
      "cell_type": "code",
      "source": [
        "from sklearn.feature_selection import mutual_info_classif\n",
        "\n",
        "res = dict(zip(train.columns,\n",
        "               mutual_info_classif(train, target)\n",
        "               ))\n",
        "\n",
        "sortDict = sorted(res.items(), key=lambda x:x[1], reverse = True)\n",
        "\n",
        "for i, j in enumerate(sortDict) :\n",
        "    print(str(i+1) + ' - ' + str(j))\n",
        "\n",
        "select = []\n",
        "for j in sortDict :\n",
        "    select.append(j[0])\n",
        "\n",
        "print(select)"
      ],
      "metadata": {
        "id": "6g3OBTKq8HM2"
      },
      "execution_count": null,
      "outputs": []
    }
  ]
}